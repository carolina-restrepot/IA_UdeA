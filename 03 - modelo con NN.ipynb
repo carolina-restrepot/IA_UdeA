{
  "nbformat": 4,
  "nbformat_minor": 0,
  "metadata": {
    "colab": {
      "provenance": [],
      "collapsed_sections": [
        "I6NrdTlBIf_g",
        "nknaFLrQIpRH",
        "xfTxREljIxfW",
        "ITdL7cS3I7wn",
        "X2U2SvHBJQim",
        "oqrV9EBZKXVM",
        "GHlftVq8Mg1y",
        "B0MHMQa6OTYo",
        "ZEXjnoPWQQRX",
        "QZ_TctJKUXeS",
        "YL3UNvpqVlLq",
        "ihPjdeobYOWt"
      ],
      "gpuType": "V28"
    },
    "kernelspec": {
      "name": "python3",
      "display_name": "Python 3"
    },
    "language_info": {
      "name": "python"
    },
    "accelerator": "TPU"
  },
  "cells": [
    {
      "cell_type": "markdown",
      "source": [
        "Se instala Kaggle"
      ],
      "metadata": {
        "id": "ikb-689VVGKd"
      }
    },
    {
      "cell_type": "code",
      "execution_count": 1,
      "metadata": {
        "colab": {
          "base_uri": "https://localhost:8080/"
        },
        "id": "BllusWpqA8Dq",
        "outputId": "206f50d3-607a-4124-fe67-c92fd9fa5b76"
      },
      "outputs": [
        {
          "output_type": "stream",
          "name": "stdout",
          "text": [
            "Collecting kaggle==1.5.12\n",
            "  Downloading kaggle-1.5.12.tar.gz (58 kB)\n",
            "\u001b[?25l     \u001b[90m━━━━━━━━━━━━━━━━━━━━━━━━━━━━━━━━━━━━━━━━\u001b[0m \u001b[32m0.0/59.0 kB\u001b[0m \u001b[31m?\u001b[0m eta \u001b[36m-:--:--\u001b[0m\r\u001b[2K     \u001b[90m━━━━━━━━━━━━━━━━━━━━━━━━━━━━━━━━━━━━━━━━\u001b[0m \u001b[32m59.0/59.0 kB\u001b[0m \u001b[31m2.3 MB/s\u001b[0m eta \u001b[36m0:00:00\u001b[0m\n",
            "\u001b[?25h  Installing build dependencies ... \u001b[?25l\u001b[?25hdone\n",
            "  Getting requirements to build wheel ... \u001b[?25l\u001b[?25hdone\n",
            "  Preparing metadata (pyproject.toml) ... \u001b[?25l\u001b[?25hdone\n",
            "Requirement already satisfied: six>=1.10 in /usr/local/lib/python3.11/dist-packages (from kaggle==1.5.12) (1.17.0)\n",
            "Requirement already satisfied: certifi in /usr/local/lib/python3.11/dist-packages (from kaggle==1.5.12) (2025.6.15)\n",
            "Requirement already satisfied: python-dateutil in /usr/local/lib/python3.11/dist-packages (from kaggle==1.5.12) (2.9.0.post0)\n",
            "Requirement already satisfied: requests in /usr/local/lib/python3.11/dist-packages (from kaggle==1.5.12) (2.32.3)\n",
            "Requirement already satisfied: tqdm in /usr/local/lib/python3.11/dist-packages (from kaggle==1.5.12) (4.67.1)\n",
            "Requirement already satisfied: python-slugify in /usr/local/lib/python3.11/dist-packages (from kaggle==1.5.12) (8.0.4)\n",
            "Requirement already satisfied: urllib3 in /usr/local/lib/python3.11/dist-packages (from kaggle==1.5.12) (2.4.0)\n",
            "Requirement already satisfied: text-unidecode>=1.3 in /usr/local/lib/python3.11/dist-packages (from python-slugify->kaggle==1.5.12) (1.3)\n",
            "Requirement already satisfied: charset-normalizer<4,>=2 in /usr/local/lib/python3.11/dist-packages (from requests->kaggle==1.5.12) (3.4.2)\n",
            "Requirement already satisfied: idna<4,>=2.5 in /usr/local/lib/python3.11/dist-packages (from requests->kaggle==1.5.12) (3.10)\n",
            "Building wheels for collected packages: kaggle\n",
            "  Building wheel for kaggle (pyproject.toml) ... \u001b[?25l\u001b[?25hdone\n",
            "  Created wheel for kaggle: filename=kaggle-1.5.12-py3-none-any.whl size=73076 sha256=2dea0326f6a7c954a156637ee7587d3fd2d701d7b48e1ee08df4944db1100381\n",
            "  Stored in directory: /root/.cache/pip/wheels/2e/27/39/f44e52756a6407b444143f233abe9fda0e18a23e8b20e0cd1c\n",
            "Successfully built kaggle\n",
            "Installing collected packages: kaggle\n",
            "  Attempting uninstall: kaggle\n",
            "    Found existing installation: kaggle 1.7.4.5\n",
            "    Uninstalling kaggle-1.7.4.5:\n",
            "      Successfully uninstalled kaggle-1.7.4.5\n",
            "Successfully installed kaggle-1.5.12\n"
          ]
        }
      ],
      "source": [
        "!pip install kaggle==1.5.12"
      ]
    },
    {
      "cell_type": "markdown",
      "source": [
        "Es necesario ubicar el archivo de autenticación de Kaggle en la dirección luego de ser cargados a la carpeta de archivos de Colab."
      ],
      "metadata": {
        "id": "Eu4eyikjVOSq"
      }
    },
    {
      "cell_type": "code",
      "source": [
        "!mkdir -p ~/.kaggle\n",
        "!cp kaggle.json ~/.kaggle/\n",
        "!chmod 600 ~/.kaggle/kaggle.json"
      ],
      "metadata": {
        "id": "v39MESVdBLUR"
      },
      "execution_count": 2,
      "outputs": []
    },
    {
      "cell_type": "markdown",
      "source": [
        "Se descarga el dataset"
      ],
      "metadata": {
        "id": "0ui2iTyJVorQ"
      }
    },
    {
      "cell_type": "code",
      "source": [
        "!kaggle competitions download -c udea-ai-4-eng-20251-pruebas-saber-pro-colombia"
      ],
      "metadata": {
        "colab": {
          "base_uri": "https://localhost:8080/"
        },
        "id": "-KYU3vBlDs-W",
        "outputId": "1a278292-253b-4f96-ac93-b6ed8793d852"
      },
      "execution_count": 3,
      "outputs": [
        {
          "output_type": "stream",
          "name": "stdout",
          "text": [
            "Downloading udea-ai-4-eng-20251-pruebas-saber-pro-colombia.zip to /content\n",
            " 74% 22.0M/29.9M [00:00<00:00, 230MB/s]\n",
            "100% 29.9M/29.9M [00:00<00:00, 253MB/s]\n"
          ]
        }
      ]
    },
    {
      "cell_type": "markdown",
      "source": [
        "Se descomprime el dataset"
      ],
      "metadata": {
        "id": "trcLm_GOVtVL"
      }
    },
    {
      "cell_type": "code",
      "source": [
        "!unzip /content/udea-ai-4-eng-20251-pruebas-saber-pro-colombia.zip"
      ],
      "metadata": {
        "colab": {
          "base_uri": "https://localhost:8080/"
        },
        "id": "_HNuNo_OEDR1",
        "outputId": "b9b478d3-71a3-4ddc-88d2-7cb6ec833d59"
      },
      "execution_count": 4,
      "outputs": [
        {
          "output_type": "stream",
          "name": "stdout",
          "text": [
            "Archive:  /content/udea-ai-4-eng-20251-pruebas-saber-pro-colombia.zip\n",
            "  inflating: submission_example.csv  \n",
            "  inflating: test.csv                \n",
            "  inflating: train.csv               \n"
          ]
        }
      ]
    },
    {
      "cell_type": "code",
      "source": [
        "!pip install tensorflow"
      ],
      "metadata": {
        "colab": {
          "base_uri": "https://localhost:8080/",
          "height": 1000
        },
        "id": "l1CJPVEvQI_J",
        "outputId": "58874098-80f2-4290-ca38-ec4ca1d11c75"
      },
      "execution_count": 7,
      "outputs": [
        {
          "output_type": "stream",
          "name": "stdout",
          "text": [
            "Collecting tensorflow\n",
            "  Downloading tensorflow-2.19.0-cp311-cp311-manylinux_2_17_x86_64.manylinux2014_x86_64.whl.metadata (4.1 kB)\n",
            "Requirement already satisfied: absl-py>=1.0.0 in /usr/local/lib/python3.11/dist-packages (from tensorflow) (1.4.0)\n",
            "Collecting astunparse>=1.6.0 (from tensorflow)\n",
            "  Downloading astunparse-1.6.3-py2.py3-none-any.whl.metadata (4.4 kB)\n",
            "Collecting flatbuffers>=24.3.25 (from tensorflow)\n",
            "  Downloading flatbuffers-25.2.10-py2.py3-none-any.whl.metadata (875 bytes)\n",
            "Requirement already satisfied: gast!=0.5.0,!=0.5.1,!=0.5.2,>=0.2.1 in /usr/local/lib/python3.11/dist-packages (from tensorflow) (0.6.0)\n",
            "Collecting google-pasta>=0.1.1 (from tensorflow)\n",
            "  Downloading google_pasta-0.2.0-py3-none-any.whl.metadata (814 bytes)\n",
            "Collecting libclang>=13.0.0 (from tensorflow)\n",
            "  Downloading libclang-18.1.1-py2.py3-none-manylinux2010_x86_64.whl.metadata (5.2 kB)\n",
            "Requirement already satisfied: opt-einsum>=2.3.2 in /usr/local/lib/python3.11/dist-packages (from tensorflow) (3.4.0)\n",
            "Requirement already satisfied: packaging in /usr/local/lib/python3.11/dist-packages (from tensorflow) (25.0)\n",
            "Collecting protobuf!=4.21.0,!=4.21.1,!=4.21.2,!=4.21.3,!=4.21.4,!=4.21.5,<6.0.0dev,>=3.20.3 (from tensorflow)\n",
            "  Downloading protobuf-5.29.5-cp38-abi3-manylinux2014_x86_64.whl.metadata (592 bytes)\n",
            "Requirement already satisfied: requests<3,>=2.21.0 in /usr/local/lib/python3.11/dist-packages (from tensorflow) (2.32.3)\n",
            "Requirement already satisfied: setuptools in /usr/local/lib/python3.11/dist-packages (from tensorflow) (75.2.0)\n",
            "Requirement already satisfied: six>=1.12.0 in /usr/local/lib/python3.11/dist-packages (from tensorflow) (1.17.0)\n",
            "Requirement already satisfied: termcolor>=1.1.0 in /usr/local/lib/python3.11/dist-packages (from tensorflow) (3.1.0)\n",
            "Requirement already satisfied: typing-extensions>=3.6.6 in /usr/local/lib/python3.11/dist-packages (from tensorflow) (4.14.0)\n",
            "Requirement already satisfied: wrapt>=1.11.0 in /usr/local/lib/python3.11/dist-packages (from tensorflow) (1.17.2)\n",
            "Requirement already satisfied: grpcio<2.0,>=1.24.3 in /usr/local/lib/python3.11/dist-packages (from tensorflow) (1.73.1)\n",
            "Collecting tensorboard~=2.19.0 (from tensorflow)\n",
            "  Downloading tensorboard-2.19.0-py3-none-any.whl.metadata (1.8 kB)\n",
            "Requirement already satisfied: keras>=3.5.0 in /usr/local/lib/python3.11/dist-packages (from tensorflow) (3.8.0)\n",
            "Requirement already satisfied: numpy<2.2.0,>=1.26.0 in /usr/local/lib/python3.11/dist-packages (from tensorflow) (2.0.2)\n",
            "Requirement already satisfied: h5py>=3.11.0 in /usr/local/lib/python3.11/dist-packages (from tensorflow) (3.14.0)\n",
            "Requirement already satisfied: ml-dtypes<1.0.0,>=0.5.1 in /usr/local/lib/python3.11/dist-packages (from tensorflow) (0.5.1)\n",
            "Collecting tensorflow-io-gcs-filesystem>=0.23.1 (from tensorflow)\n",
            "  Downloading tensorflow_io_gcs_filesystem-0.37.1-cp311-cp311-manylinux_2_17_x86_64.manylinux2014_x86_64.whl.metadata (14 kB)\n",
            "Collecting wheel<1.0,>=0.23.0 (from astunparse>=1.6.0->tensorflow)\n",
            "  Downloading wheel-0.45.1-py3-none-any.whl.metadata (2.3 kB)\n",
            "Requirement already satisfied: rich in /usr/local/lib/python3.11/dist-packages (from keras>=3.5.0->tensorflow) (14.0.0)\n",
            "Requirement already satisfied: namex in /usr/local/lib/python3.11/dist-packages (from keras>=3.5.0->tensorflow) (0.1.0)\n",
            "Requirement already satisfied: optree in /usr/local/lib/python3.11/dist-packages (from keras>=3.5.0->tensorflow) (0.16.0)\n",
            "Requirement already satisfied: charset-normalizer<4,>=2 in /usr/local/lib/python3.11/dist-packages (from requests<3,>=2.21.0->tensorflow) (3.4.2)\n",
            "Requirement already satisfied: idna<4,>=2.5 in /usr/local/lib/python3.11/dist-packages (from requests<3,>=2.21.0->tensorflow) (3.10)\n",
            "Requirement already satisfied: urllib3<3,>=1.21.1 in /usr/local/lib/python3.11/dist-packages (from requests<3,>=2.21.0->tensorflow) (2.4.0)\n",
            "Requirement already satisfied: certifi>=2017.4.17 in /usr/local/lib/python3.11/dist-packages (from requests<3,>=2.21.0->tensorflow) (2025.6.15)\n",
            "Requirement already satisfied: markdown>=2.6.8 in /usr/lib/python3/dist-packages (from tensorboard~=2.19.0->tensorflow) (3.3.6)\n",
            "Collecting tensorboard-data-server<0.8.0,>=0.7.0 (from tensorboard~=2.19.0->tensorflow)\n",
            "  Downloading tensorboard_data_server-0.7.2-py3-none-manylinux_2_31_x86_64.whl.metadata (1.1 kB)\n",
            "Collecting werkzeug>=1.0.1 (from tensorboard~=2.19.0->tensorflow)\n",
            "  Downloading werkzeug-3.1.3-py3-none-any.whl.metadata (3.7 kB)\n",
            "Requirement already satisfied: MarkupSafe>=2.1.1 in /usr/local/lib/python3.11/dist-packages (from werkzeug>=1.0.1->tensorboard~=2.19.0->tensorflow) (3.0.2)\n",
            "Requirement already satisfied: markdown-it-py>=2.2.0 in /usr/local/lib/python3.11/dist-packages (from rich->keras>=3.5.0->tensorflow) (3.0.0)\n",
            "Requirement already satisfied: pygments<3.0.0,>=2.13.0 in /usr/local/lib/python3.11/dist-packages (from rich->keras>=3.5.0->tensorflow) (2.19.2)\n",
            "Requirement already satisfied: mdurl~=0.1 in /usr/local/lib/python3.11/dist-packages (from markdown-it-py>=2.2.0->rich->keras>=3.5.0->tensorflow) (0.1.2)\n",
            "Downloading tensorflow-2.19.0-cp311-cp311-manylinux_2_17_x86_64.manylinux2014_x86_64.whl (644.9 MB)\n",
            "\u001b[2K   \u001b[90m━━━━━━━━━━━━━━━━━━━━━━━━━━━━━━━━━━━━━━━━\u001b[0m \u001b[32m644.9/644.9 MB\u001b[0m \u001b[31m1.5 MB/s\u001b[0m eta \u001b[36m0:00:00\u001b[0m\n",
            "\u001b[?25hDownloading astunparse-1.6.3-py2.py3-none-any.whl (12 kB)\n",
            "Downloading flatbuffers-25.2.10-py2.py3-none-any.whl (30 kB)\n",
            "Downloading google_pasta-0.2.0-py3-none-any.whl (57 kB)\n",
            "\u001b[2K   \u001b[90m━━━━━━━━━━━━━━━━━━━━━━━━━━━━━━━━━━━━━━━━\u001b[0m \u001b[32m57.5/57.5 kB\u001b[0m \u001b[31m4.2 MB/s\u001b[0m eta \u001b[36m0:00:00\u001b[0m\n",
            "\u001b[?25hDownloading libclang-18.1.1-py2.py3-none-manylinux2010_x86_64.whl (24.5 MB)\n",
            "\u001b[2K   \u001b[90m━━━━━━━━━━━━━━━━━━━━━━━━━━━━━━━━━━━━━━━━\u001b[0m \u001b[32m24.5/24.5 MB\u001b[0m \u001b[31m82.6 MB/s\u001b[0m eta \u001b[36m0:00:00\u001b[0m\n",
            "\u001b[?25hDownloading protobuf-5.29.5-cp38-abi3-manylinux2014_x86_64.whl (319 kB)\n",
            "\u001b[2K   \u001b[90m━━━━━━━━━━━━━━━━━━━━━━━━━━━━━━━━━━━━━━━━\u001b[0m \u001b[32m319.9/319.9 kB\u001b[0m \u001b[31m18.4 MB/s\u001b[0m eta \u001b[36m0:00:00\u001b[0m\n",
            "\u001b[?25hDownloading tensorboard-2.19.0-py3-none-any.whl (5.5 MB)\n",
            "\u001b[2K   \u001b[90m━━━━━━━━━━━━━━━━━━━━━━━━━━━━━━━━━━━━━━━━\u001b[0m \u001b[32m5.5/5.5 MB\u001b[0m \u001b[31m103.6 MB/s\u001b[0m eta \u001b[36m0:00:00\u001b[0m\n",
            "\u001b[?25hDownloading tensorflow_io_gcs_filesystem-0.37.1-cp311-cp311-manylinux_2_17_x86_64.manylinux2014_x86_64.whl (5.1 MB)\n",
            "\u001b[2K   \u001b[90m━━━━━━━━━━━━━━━━━━━━━━━━━━━━━━━━━━━━━━━━\u001b[0m \u001b[32m5.1/5.1 MB\u001b[0m \u001b[31m115.8 MB/s\u001b[0m eta \u001b[36m0:00:00\u001b[0m\n",
            "\u001b[?25hDownloading tensorboard_data_server-0.7.2-py3-none-manylinux_2_31_x86_64.whl (6.6 MB)\n",
            "\u001b[2K   \u001b[90m━━━━━━━━━━━━━━━━━━━━━━━━━━━━━━━━━━━━━━━━\u001b[0m \u001b[32m6.6/6.6 MB\u001b[0m \u001b[31m121.1 MB/s\u001b[0m eta \u001b[36m0:00:00\u001b[0m\n",
            "\u001b[?25hDownloading werkzeug-3.1.3-py3-none-any.whl (224 kB)\n",
            "\u001b[2K   \u001b[90m━━━━━━━━━━━━━━━━━━━━━━━━━━━━━━━━━━━━━━━━\u001b[0m \u001b[32m224.5/224.5 kB\u001b[0m \u001b[31m16.2 MB/s\u001b[0m eta \u001b[36m0:00:00\u001b[0m\n",
            "\u001b[?25hDownloading wheel-0.45.1-py3-none-any.whl (72 kB)\n",
            "\u001b[2K   \u001b[90m━━━━━━━━━━━━━━━━━━━━━━━━━━━━━━━━━━━━━━━━\u001b[0m \u001b[32m72.5/72.5 kB\u001b[0m \u001b[31m6.2 MB/s\u001b[0m eta \u001b[36m0:00:00\u001b[0m\n",
            "\u001b[?25hInstalling collected packages: libclang, flatbuffers, wheel, werkzeug, tensorflow-io-gcs-filesystem, tensorboard-data-server, protobuf, google-pasta, tensorboard, astunparse, tensorflow\n",
            "  Attempting uninstall: protobuf\n",
            "    Found existing installation: protobuf 6.31.1\n",
            "    Uninstalling protobuf-6.31.1:\n",
            "      Successfully uninstalled protobuf-6.31.1\n",
            "Successfully installed astunparse-1.6.3 flatbuffers-25.2.10 google-pasta-0.2.0 libclang-18.1.1 protobuf-5.29.5 tensorboard-2.19.0 tensorboard-data-server-0.7.2 tensorflow-2.19.0 tensorflow-io-gcs-filesystem-0.37.1 werkzeug-3.1.3 wheel-0.45.1\n"
          ]
        },
        {
          "output_type": "display_data",
          "data": {
            "application/vnd.colab-display-data+json": {
              "pip_warning": {
                "packages": [
                  "google"
                ]
              },
              "id": "01a92982b8dc418f93bea16932d2d9ca"
            }
          },
          "metadata": {}
        }
      ]
    },
    {
      "cell_type": "markdown",
      "source": [
        "Importación de librerías"
      ],
      "metadata": {
        "id": "T8M25XmuVwb-"
      }
    },
    {
      "cell_type": "code",
      "source": [
        "import pandas as pd\n",
        "import numpy as np\n",
        "import unicodedata\n",
        "from sklearn.preprocessing import OneHotEncoder\n",
        "from sklearn.preprocessing import OrdinalEncoder\n",
        "import sklearn.model_selection\n",
        "import sklearn.metrics\n",
        "from sklearn.ensemble import StackingClassifier\n",
        "from sklearn.linear_model import LogisticRegression\n",
        "from sklearn.feature_selection import RFECV\n",
        "from sklearn.model_selection import StratifiedKFold\n",
        "from sklearn.datasets import make_classification\n",
        "from sklearn.model_selection import train_test_split\n",
        "from sklearn.metrics import accuracy_score\n",
        "from sklearn.model_selection import GridSearchCV\n",
        "import tensorflow as tf\n",
        "from tensorflow import keras\n",
        "from tensorflow.keras.models import Sequential\n",
        "from tensorflow.keras.layers import Dense, Dropout\n",
        "from tensorflow.keras.optimizers import Adam\n",
        "from tensorflow.keras.callbacks import ReduceLROnPlateau\n",
        "\n",
        "\n"
      ],
      "metadata": {
        "id": "5QKYqtjQGkgR"
      },
      "execution_count": 8,
      "outputs": []
    },
    {
      "cell_type": "markdown",
      "source": [
        "Se carga el archivo de para realizar inferencia de datos. Debido a que el archivo es de extensión .csv se utiliza la rutina de pandas **read_csv**"
      ],
      "metadata": {
        "id": "iQIKP_7SVzU8"
      }
    },
    {
      "cell_type": "code",
      "source": [
        "train_dataset = pd.read_csv('/content/train.csv')"
      ],
      "metadata": {
        "id": "haULw55FGbGQ"
      },
      "execution_count": 9,
      "outputs": []
    },
    {
      "cell_type": "markdown",
      "source": [
        "Se crean las funciones para realizar todo el preprocesado para ingresar los datos al modelo, tanto entrenamiento como inferencia. Inicialmente, se crea la función para la estandarización de nos nombres de los departamentos, para luego pasarlos a regiones."
      ],
      "metadata": {
        "id": "AfgShOSH38Wi"
      }
    },
    {
      "cell_type": "code",
      "source": [
        "def limpiar_nombre(nombre):\n",
        "    if pd.isna(nombre):\n",
        "        return None\n",
        "\n",
        "    nombre_normalizado = unicodedata.normalize('NFD', str(nombre).upper())\n",
        "    nombre_limpio = \"\".join(c for c in nombre_normalizado if unicodedata.category(c) != 'Mn')\n",
        "\n",
        "    # Reemplazos para estandarizar al GeoJSON\n",
        "\n",
        "    if 'BOGOTA' in nombre_limpio:\n",
        "        return 'SANTAFE DE BOGOTA D.C'\n",
        "\n",
        "    if 'SAN ANDRES' in nombre_limpio:\n",
        "        return 'ARCHIPIELAGO DE SAN ANDRES PROVIDENCIA Y SANTA CATALINA'\n",
        "\n",
        "    if 'NARINO' in nombre_limpio:\n",
        "        return 'NARIÑO'\n",
        "\n",
        "    if 'VALLE' in nombre_limpio:\n",
        "        return 'VALLE DEL CAUCA'\n",
        "\n",
        "    if 'NORTE SANTANDER' in nombre_limpio:\n",
        "        return 'NORTE DE SANTANDER'\n",
        "\n",
        "    return nombre_limpio.strip()"
      ],
      "metadata": {
        "id": "mWhwz1gb5zGw"
      },
      "execution_count": 10,
      "outputs": []
    },
    {
      "cell_type": "code",
      "source": [
        "mapa_departamento_a_region = {\n",
        "    'AMAZONAS': 'Amazonía',\n",
        "    'ANTIOQUIA': 'Andina',\n",
        "    'ARAUCA': 'Orinoquía',\n",
        "    'ATLANTICO': 'Caribe', # Limpiado de 'ATLÁNTICO'\n",
        "    'SANTAFE DE BOGOTA D.C': 'Andina', # Nombre estandarizado para Bogotá\n",
        "    'BOLIVAR': 'Caribe',    # Limpiado de 'BOLÍVAR'\n",
        "    'BOYACA': 'Andina',     # Limpiado de 'BOYACÁ'\n",
        "    'CALDAS': 'Andina',\n",
        "    'CAQUETA': 'Amazonía',  # Limpiado de 'CAQUETÁ'\n",
        "    'CASANARE': 'Orinoquía',\n",
        "    'CAUCA': 'Pacífica', # Principalmente Pacífica, aunque tiene parte Andina\n",
        "    'CESAR': 'Caribe',\n",
        "    'CHOCO': 'Pacífica',    # Limpiado de 'CHOCÓ'\n",
        "    'CORDOBA': 'Caribe',    # Limpiado de 'CÓRDOBA'\n",
        "    'CUNDINAMARCA': 'Andina',\n",
        "    'GUAINIA': 'Amazonía',  # Limpiado de 'GUAINÍA'\n",
        "    'GUAVIARE': 'Amazonía',\n",
        "    'HUILA': 'Andina',\n",
        "    'LA GUAJIRA': 'Caribe',\n",
        "    'MAGDALENA': 'Caribe',\n",
        "    'META': 'Orinoquía',\n",
        "    'NARIÑO': 'Pacífica', # Principalmente Pacífica, aunque tiene parte Andina\n",
        "    'NORTE DE SANTANDER': 'Andina',\n",
        "    'PUTUMAYO': 'Amazonía',\n",
        "    'QUINDIO': 'Andina',    # Limpiado de 'QUINDÍO'\n",
        "    'RISARALDA': 'Andina',\n",
        "    'ARCHIPIELAGO DE SAN ANDRES PROVIDENCIA Y SANTA CATALINA': 'Insular', # Nombre estandarizado\n",
        "    'SANTANDER': 'Andina',\n",
        "    'SUCRE': 'Caribe',\n",
        "    'TOLIMA': 'Andina',\n",
        "    'VALLE DEL CAUCA': 'Pacífica',\n",
        "    'VAUPES': 'Amazonía',   # Limpiado de 'VAUPÉS'\n",
        "    'VICHADA': 'Orinoquía'\n",
        "}\n"
      ],
      "metadata": {
        "id": "zPUyEFtdL1O_"
      },
      "execution_count": 11,
      "outputs": []
    },
    {
      "cell_type": "code",
      "source": [
        "def normalize_text(text):\n",
        "\n",
        "    if not isinstance(text, str):\n",
        "        return \"\"\n",
        "    try:\n",
        "        text = text.upper()\n",
        "        text = ''.join(c for c in unicodedata.normalize('NFD', text)\n",
        "                       if unicodedata.category(c) != 'Mn')\n",
        "    except Exception: # Por si acaso hay algún valor inesperado\n",
        "        return \"\"\n",
        "    return text"
      ],
      "metadata": {
        "id": "n888onlV6rLf"
      },
      "execution_count": 12,
      "outputs": []
    },
    {
      "cell_type": "markdown",
      "source": [
        "Se crea el diccionario para la agrupación por facultades"
      ],
      "metadata": {
        "id": "_ZtxpnZqs6S-"
      }
    },
    {
      "cell_type": "code",
      "source": [
        "faculty_map = {\n",
        "    'EDUCACION_PEDAGOGIA': ['LICENCIATURA', 'PEDAGOGIA', 'PEDAGOGÍA', 'NORMALISTA', 'ENSEÑANZA', 'DIDACTICA', 'ETNOEDUCACION'],\n",
        "    'CIENCIAS_SALUD': [\n",
        "        'MEDICINA', 'ENFERMERIA', 'ODONTOLOGIA', 'VETERINARIA', 'FISIOTERAPIA', 'NUTRICION', 'DIETETICA',\n",
        "        'SALUD OCUPACIONAL', 'SALUD EN EL TRABAJO', 'SEGURIDAD Y SALUD EN EL TRABAJO',\n",
        "        'QUIMICA FARMACEUTICA', 'FARMACIA', 'INSTRUMENTACION QUIRURGICA', 'OPTOMETRIA',\n",
        "        'TERAPIA RESPIRATORIA', 'TERAPIA OCUPACIONAL', 'BACTERIOLOGIA', 'FONOAUDIOLOGIA', 'GERONTOLOGIA',\n",
        "        'SALUD PUBLICA', 'BIOANALISIS', 'EPIDEMIOLOGIA', 'SALUD',\n",
        "        'TERAPIAS PSICOSOCIALES', 'TERAPIA CARDIORRESPIRATORIA', 'SALUD ORAL', 'QUIRURGICA', 'FARMAC¿UTICA'\n",
        "    ],\n",
        "    'INGENIERIA_TECNOLOGIA': [\n",
        "        'INGENIERI', 'SISTEMAS', 'SOFTWARE', 'TELECOMUNIC', 'TECNOLOGI', 'COMPUTACION', 'INFORMATICA',\n",
        "        'MECANICA', 'CIVIL', 'INDUSTRIAL', 'ELECTRONICA', 'ELECTRICA', 'QUIMICA',\n",
        "        'ALIMENTOS', 'PRODUCCION', 'MECATRONICA', 'BIOMEDICA', 'CONTROL', 'PROCESOS', 'AGROINDUSTRIAL',\n",
        "        'MULTIMEDIA', 'SONIDO', 'PETROLEO', 'AERONAUTICA', 'NAVAL', 'TOPOGRAFIA', 'MATERIALES', 'GEOLOGICA',\n",
        "        'FORESTAL', 'ELECTROMECANICA', 'TELEMATICA', 'ENERGIA', 'AGRICOLA', 'MINAS',\n",
        "        'CATASTRAL', 'AUTOMATIZACION', 'PLASTICOS', 'TEXTIL', 'MANTENIMIENTO', 'BIOQUIMICA',\n",
        "        'BIOTECNOLOGICA', 'OCEANOGRAFICA', 'URBANA', 'PETROQUIMICA', 'NANOTECNOLOGIA',\n",
        "        'CIENCIA DE DATOS', 'INTELIGENCIA ARTIFICIAL', 'ROBOTICA', 'DESARROLLO DE SOFTWARE',\n",
        "        'CONSTRUCCION', 'CIENCIAS DE LA INFORMACION Y LA DOCUMENTACION', 'INGENIER¿A', 'URBANISMO'\n",
        "    ],\n",
        "    'ARTES_DISENO_COM_AUDIOVISUAL': [\n",
        "        'ARTE', 'ARTES', 'DISEÑO', 'DISENO', 'MUSICA', 'ARQUITECTURA', 'COMUNICACION AUDIOVISUAL', 'AUDIOVISUAL',\n",
        "        'VISUAL', 'CINE', 'TELEVISION', 'FOTOGRAFIA', 'MODA', 'VESTUARIO', 'DANZA', 'TEATRO',\n",
        "        'INTERIORES', 'ESCENARIOS', 'ANIMACION', 'CULINARIA', 'GASTRONOMIA', 'REALIZACION',\n",
        "        'PRODUCCION MUSICAL', 'BELLAS ARTES', 'MEDIOS AUDIOVISUALES', 'COMUNICACION GRAFICA', 'GRAFICO',\n",
        "        'PUBLICIDAD', 'ESCENICAS', 'PLASTICAS', 'COREOGRAFICA', 'PATRIMONIO', 'CREACION LITERARIA',\n",
        "        'INTERACTIVO', 'CROSSMEDIA', 'NARRATIVAS DIGITALES', 'COMUNICACION', 'COMUNICACI¿N', 'DISE¿¿O'\n",
        "    ],\n",
        "    'CIENCIAS_ECONOMICAS_ADMINISTRATIVAS_CONTABLES': [\n",
        "        'ADMINISTRA', 'MERCADEO', 'FINANCIERA', 'CONTADURIA', 'ECONOMIA', 'NEGOCIOS', 'COMERCIO',\n",
        "        'HOTELERIA', 'TURISMO', 'GESTION', 'LOGISTICA', 'FINANZAS', 'BANCARIA', 'EMPRESARIAL',\n",
        "        'AUDITORIA', 'TRIBUTARIA', 'GERENCIA', 'COMERCIAL', 'ADUANAS', 'SEGUROS', 'ADMINSITRACION', 'ECONOM¿A', 'MARKETING',\n",
        "        'MERCADOLOGIA', 'RELACIONES ECONOMICAS INTERNACIONALES'\n",
        "    ],\n",
        "    'CIENCIAS_SOCIALES_HUMANIDADES_DERECHO': [\n",
        "        'DERECHO', 'JURISPRUDENCIA', 'PSICOLOGIA', 'CIENCIA POLITICA', 'POLITICA', 'COMUNICACION SOCIAL',\n",
        "        'PERIODISMO', 'TRABAJO SOCIAL', 'SOCIOLOGIA', 'FILOSOFIA', 'HISTORIA', 'ANTROPOLOGIA', 'GEOGRAFIA',\n",
        "        'RELACIONES INTERNACIONALES', 'ESTUDIOS LITERARIOS', 'LITERATURA', 'LINGUISTICA', 'FILOLOGIA',\n",
        "        'ARCHIVISTICA', 'BIBLIOTECOLOGIA', 'TEOLOGIA', 'PLANEACION Y DESARROLLO SOCIAL', 'CRIMINALISTICA',\n",
        "        'GOBIERNO', 'ESTUDIOS POLITICOS', 'DESARROLLO FAMILIAR', 'HUMANIDADES', 'LETRAS', 'SOCIOCULTURALES',\n",
        "        'PAZ', 'CONFLICTO', 'DERECHOS HUMANOS', 'ESTUDIOS CULTURALES', 'COOPERACION INTERNACIONAL',\n",
        "        'CIENCIAS RELIGIOSAS', 'RELACIONES PUBLICAS', 'COMUNICACION CORPORATIVA', 'ARQUEOLOGIA', 'CIENCIAS BIBLICAS',\n",
        "        'DEPOR', 'LENGUAS', 'PSICÓLOGA'\n",
        "    ],\n",
        "    'CIENCIAS_AGROPECUARIAS_AMBIENTALES': [\n",
        "        'AGRONOMIA', 'AGROPECUARIA', 'ZOOTECNIA', 'AGROFORESTAL', 'PESQUERA', 'ACUICULTURA', 'AGRONEGOCIOS',\n",
        "        'AMBIENTAL', 'ECOLOGIA', 'RECURSOS NATURALES', 'DESARROLLO RURAL', 'AGROECOLOGICA', 'AGROINDUSTRIA'\n",
        "    ],\n",
        "    'CIENCIAS_EXACTAS_NATURALES': [\n",
        "        'ESTADISTICA', 'BIOLOGIA', 'QUIMICA',\n",
        "        'MATEMATICAS', 'FISICA', 'GEOLOGIA',\n",
        "        'MICROBIOLOGIA', 'GEOCIENCIAS', 'ASTRONOMIA', 'OCEANOGRAFIA',\n",
        "        'BIOQUIMICA', 'BIOTECNOLOGIA',\n",
        "        'CIENCIAS NATURALES', 'CIENCIAS DE LA COMPUTACION',\n",
        "        'ACTUARIA', 'GEOGRAFIA FISICA', 'GEOLOG¿A', 'MATEM'\n",
        "    ],\n",
        "    'DEFENSA_SEGURIDAD': [\n",
        "        'CIENCIAS MILITARES', 'CIENCIAS NAVALES', 'ADMINISTRACION POLICIAL', 'INVESTIGACION CRIMINAL',\n",
        "        'SEGURIDAD',\n",
        "    ]\n",
        "}"
      ],
      "metadata": {
        "id": "KIcCkU6keUir"
      },
      "execution_count": 13,
      "outputs": []
    },
    {
      "cell_type": "code",
      "source": [
        "faculty_order = [\n",
        "    'EDUCACION_PEDAGOGIA',\n",
        "    'CIENCIAS_SALUD',\n",
        "    'INGENIERIA_TECNOLOGIA',\n",
        "    'ARTES_DISENO_COM_AUDIOVISUAL',\n",
        "    'CIENCIAS_ECONOMICAS_ADMINISTRATIVAS_CONTABLES',\n",
        "    'CIENCIAS_SOCIALES_HUMANIDADES_DERECHO',\n",
        "    'CIENCIAS_AGROPECUARIAS_AMBIENTALES',\n",
        "    'CIENCIAS_EXACTAS_NATURALES',\n",
        "    'DEFENSA_SEGURIDAD'\n",
        "]"
      ],
      "metadata": {
        "id": "q5koZauieaDa"
      },
      "execution_count": 14,
      "outputs": []
    },
    {
      "cell_type": "markdown",
      "source": [
        "Se crea la función para asignar las facultades"
      ],
      "metadata": {
        "id": "HkujZa-etADO"
      }
    },
    {
      "cell_type": "code",
      "source": [
        "def get_faculty(program_name_raw):\n",
        "\n",
        "    program_name = normalize_text(program_name_raw)\n",
        "\n",
        "    if not program_name:\n",
        "        return 'OTROS_PROGRAMAS_O_INVALIDOS'\n",
        "\n",
        "    if 'QUIMICA FARMACEUTICA' in program_name:\n",
        "        return 'CIENCIAS_SALUD'\n",
        "\n",
        "    if 'INGENIERIA QUIMICA' in program_name:\n",
        "        return 'INGENIERIA_TECNOLOGIA'\n",
        "\n",
        "    health_safety_phrases = [\n",
        "        'SEGURIDAD Y SALUD EN EL TRABAJO', 'SALUD OCUPACIONAL', 'ADMINISTRACION EN SALUD OCUPACIONAL',\n",
        "        'ADMINISTRACION DE LA SEGURIDAD Y SALUD OCUPACIONAL', 'ADMINISTRACION DE LA SEGURIDAD SOCIAL',\n",
        "        'GESTION DE LA SEGURIDAD Y LA SALUD LABORAL', 'RIESGOS DE SEGURIDAD Y SALUD EN EL TRABAJO',\n",
        "        'HIGIENE Y SEGURIDAD OCUPACIONAL', 'SEGURIDAD Y SALUD PARA EL TRABAJO',\n",
        "        'SEGURIDAD INDUSTRIAL E HIGIENE OCUPACIONAL', 'SALUD LABORAL'\n",
        "    ]\n",
        "\n",
        "    for phrase in health_safety_phrases:\n",
        "        if phrase in program_name:\n",
        "            return 'CIENCIAS_SALUD'\n",
        "\n",
        "    if 'CONSTRUCCION' in program_name:\n",
        "\n",
        "        if 'ARQUITECTURA' in program_name or 'ARQUITECTONICA' in program_name:\n",
        "\n",
        "            return 'ARTES_DISENO_COM_AUDIOVISUAL'\n",
        "        else:\n",
        "            return 'INGENIERIA_TECNOLOGIA'\n",
        "\n",
        "    if 'CIENCIAS DE LA COMPUTACION' in program_name:\n",
        "\n",
        "        if 'INTELIGENCIA ARTIFICIAL' in program_name or 'INGENIERIA' in program_name:\n",
        "\n",
        "            return 'INGENIERIA_TECNOLOGIA'\n",
        "\n",
        "        else:\n",
        "\n",
        "            return 'INGENIERIA_TECNOLOGIA'\n",
        "\n",
        "    if 'PUBLICIDAD' in program_name:\n",
        "\n",
        "        if 'MERCADEO' in program_name or 'VENTAS' in program_name or 'COMERCIAL' in program_name or 'NEGOCIOS' in program_name or 'MARKETING' in program_name:\n",
        "\n",
        "            return 'CIENCIAS_ECONOMICAS_ADMINISTRATIVAS_CONTABLES'\n",
        "\n",
        "    # --- Bucle General por Palabras Clave ---\n",
        "    for faculty_name in faculty_order:\n",
        "        keywords = faculty_map[faculty_name]\n",
        "        for keyword in keywords:\n",
        "            if keyword in program_name:\n",
        "                if faculty_name == 'INGENIERIA_TECNOLOGIA':\n",
        "                    if keyword == 'QUIMICA' and 'FARMACEUTICA' in program_name: continue\n",
        "                elif faculty_name == 'CIENCIAS_EXACTAS_NATURALES':\n",
        "                    if keyword == 'QUIMICA' and ('FARMACEUTICA' in program_name or 'INGENIERI' in program_name): continue\n",
        "                    if keyword == 'GEOLOGIA' and 'INGENIERI' in program_name: continue\n",
        "                    if (keyword == 'BIOQUIMICA' or keyword == 'BIOTECNOLOGIA') and 'INGENIERI' in program_name: continue\n",
        "                    if keyword == 'CIENCIAS DE LA COMPUTACION' and ('INGENIERI' in program_name or 'INTELIGENCIA ARTIFICIAL' in program_name): continue\n",
        "                elif faculty_name == 'CIENCIAS_AGROPECUARIAS_AMBIENTALES':\n",
        "                    if (keyword == 'AGROINDUSTRIAL' or keyword == 'AGROINDUSTRIA') and 'INGENIERI' in program_name: continue\n",
        "                if keyword == 'SALUD' and 'ADMINISTRA' in program_name and faculty_name == 'CIENCIAS_SALUD':\n",
        "                    return 'CIENCIAS_SALUD'\n",
        "\n",
        "                return faculty_name\n",
        "\n",
        "    return 'OTROS_PROGRAMAS_NO_CLASIFICADOS' # Para programas que no coincidan con ninguna palabra clave"
      ],
      "metadata": {
        "id": "mF7JQwo2fMoj"
      },
      "execution_count": 15,
      "outputs": []
    },
    {
      "cell_type": "code",
      "source": [
        "def preprocess_data(df, train=True):\n",
        "\n",
        "  # Eliminación de columnas innecesarias\n",
        "\n",
        "  ids = df.pop('ID') # Se conserva ID para el caso de los datos de test\n",
        "\n",
        "  df.drop(['PERIODO', 'coef_4'],\n",
        "          axis=1,\n",
        "          inplace=True)\n",
        "\n",
        "  # Llenado de datos faltantes\n",
        "\n",
        "  df['FAMI_ESTRATOVIVIENDA'] = df['FAMI_ESTRATOVIVIENDA'].fillna('Sin Estrato')\n",
        "  df['ESTU_VALORMATRICULAUNIVERSIDAD'] = df['ESTU_VALORMATRICULAUNIVERSIDAD'].fillna('No aplica')\n",
        "\n",
        "  # Se asignan las categorías posibles para la variable ESTU_VALORMATRICULAUNIVERSIDAD\n",
        "  orden_matricula = [\n",
        "    'No pagó matrícula',\n",
        "    'Menos de 500 mil',\n",
        "    'Entre 500 mil y menos de 1 millón',\n",
        "    'Entre 1 millón y menos de 2.5 millones',\n",
        "    'Entre 2.5 millones y menos de 4 millones',\n",
        "    'Entre 4 millones y menos de 5.5 millones',\n",
        "    'Entre 5.5 millones y menos de 7 millones',\n",
        "    'Más de 7 millones',\n",
        "    'No aplica'\n",
        "  ]\n",
        "\n",
        "  df['ESTU_VALORMATRICULAUNIVERSIDAD'] = pd.Categorical(\n",
        "    df['ESTU_VALORMATRICULAUNIVERSIDAD'],\n",
        "    categories=orden_matricula,\n",
        "    ordered=True\n",
        "  )\n",
        "\n",
        "  # Preprocesamiento para extraer la región\n",
        "\n",
        "  df['ESTU_PRGM_DEPARTAMENTO'] = df['ESTU_PRGM_DEPARTAMENTO'].apply(limpiar_nombre)\n",
        "  df['ESTU_PRGM_REGION'] = df['ESTU_PRGM_DEPARTAMENTO'].map(mapa_departamento_a_region)\n",
        "  df.drop('ESTU_PRGM_DEPARTAMENTO', inplace=True, axis=1)\n",
        "\n",
        "  # Preprocesamiento para extraer la facultad\n",
        "\n",
        "  df['FACULTAD'] = df['ESTU_PRGM_ACADEMICO'].apply(get_faculty)\n",
        "  df.drop('ESTU_PRGM_ACADEMICO', inplace=True, axis=1)\n",
        "\n",
        "  # Asignación de categorías de ESTU_HORASSEMANATRABAJA\n",
        "\n",
        "  orden_horas = [\n",
        "    '0',\n",
        "    'Menos de 10 horas',\n",
        "    'Entre 11 y 20 horas',\n",
        "    'Entre 21 y 30 horas',\n",
        "    'Más de 30 horas',\n",
        "    'No aplica'\n",
        "  ]\n",
        "\n",
        "  df['ESTU_HORASSEMANATRABAJA'] = pd.Categorical(\n",
        "    df['ESTU_HORASSEMANATRABAJA'],\n",
        "    categories=orden_horas,\n",
        "    ordered=True\n",
        "  )\n",
        "\n",
        "  # Llenado de datos faltantes y eliminación de caracteristicas innecesarias\n",
        "\n",
        "  df.drop('FAMI_TIENEINTERNET.1', axis=1, inplace=True)\n",
        "  df['FAMI_TIENEINTERNET'] = df['FAMI_TIENEINTERNET'].fillna('No')\n",
        "\n",
        "  df.drop('FAMI_TIENELAVADORA', axis=1, inplace=True)\n",
        "\n",
        "  df.drop('FAMI_TIENECOMPUTADOR', axis=1, inplace=True)\n",
        "\n",
        "  df['FAMI_TIENEAUTOMOVIL'] = df['FAMI_TIENEAUTOMOVIL'].fillna('No')\n",
        "\n",
        "  mapeo_reemplazo_strings = {\n",
        "    'No sabe': 'No aplica',\n",
        "  }\n",
        "\n",
        "  df['FAMI_EDUCACIONPADRE'] = df['FAMI_EDUCACIONPADRE'].replace(mapeo_reemplazo_strings)\n",
        "  df['FAMI_EDUCACIONPADRE'] = df['FAMI_EDUCACIONPADRE'].fillna('No aplica')\n",
        "\n",
        "  df['FAMI_EDUCACIONMADRE'] = df['FAMI_EDUCACIONMADRE'].replace(mapeo_reemplazo_strings)\n",
        "  df['FAMI_EDUCACIONMADRE'] = df['FAMI_EDUCACIONMADRE'].fillna('No aplica')\n",
        "\n",
        "  df['ESTU_HORASSEMANATRABAJA'] = df['ESTU_HORASSEMANATRABAJA'].fillna('No aplica')\n",
        "  df['ESTU_PAGOMATRICULAPROPIO'] = df['ESTU_PAGOMATRICULAPROPIO'].fillna('No')\n",
        "\n",
        "  columnas_codificar = ['ESTU_VALORMATRICULAUNIVERSIDAD', 'ESTU_HORASSEMANATRABAJA',\n",
        "        'FAMI_TIENEINTERNET', 'FAMI_EDUCACIONPADRE', 'FAMI_TIENEAUTOMOVIL',\n",
        "        'ESTU_PRIVADO_LIBERTAD', 'ESTU_PAGOMATRICULAPROPIO', 'FAMI_EDUCACIONMADRE',\n",
        "        'ESTU_PRGM_REGION', 'FACULTAD'\n",
        "  ]\n",
        "\n",
        "  # One-hot encoding\n",
        "\n",
        "  encoder = OneHotEncoder(sparse_output=False, handle_unknown='ignore')\n",
        "\n",
        "  datos_para_codificar = df[columnas_codificar]\n",
        "  datos_codificados_array = encoder.fit_transform(datos_para_codificar)\n",
        "  nombres_nuevas_columnas = encoder.get_feature_names_out(input_features=columnas_codificar)\n",
        "\n",
        "  df_codificado = pd.DataFrame(\n",
        "    datos_codificados_array,\n",
        "    columns=nombres_nuevas_columnas,\n",
        "    index=df.index\n",
        "  )\n",
        "\n",
        "  df.drop(columns=columnas_codificar, inplace=True)\n",
        "  df = pd.concat([df, df_codificado], axis=1)\n",
        "\n",
        "  # Codificación ordinal\n",
        "\n",
        "  orden_estratos = ['Sin Estrato', 'Estrato 1', 'Estrato 2', 'Estrato 3', 'Estrato 4', 'Estrato 5', 'Estrato 6']\n",
        "\n",
        "  ord_encoder = OrdinalEncoder(\n",
        "    categories=[orden_estratos],\n",
        "    handle_unknown='use_encoded_value',\n",
        "    unknown_value=np.nan\n",
        "  )\n",
        "\n",
        "  df['FAMI_ESTRATOVIVIENDA'] = ord_encoder.fit_transform(df[['FAMI_ESTRATOVIVIENDA']])\n",
        "\n",
        "  if train:\n",
        "\n",
        "    columna_extraida = df.pop('RENDIMIENTO_GLOBAL')\n",
        "    df['RENDIMIENTO_GLOBAL'] = columna_extraida\n",
        "\n",
        "\n",
        "    orden_rendimiento = [\n",
        "        'alto',\n",
        "        'medio-alto',\n",
        "        'medio-bajo',\n",
        "        'bajo'\n",
        "    ]\n",
        "\n",
        "\n",
        "    ord_encoder_1 = OrdinalEncoder(\n",
        "      categories=[orden_rendimiento],\n",
        "      handle_unknown='use_encoded_value',\n",
        "      unknown_value=np.nan\n",
        "    )\n",
        "\n",
        "\n",
        "    df['RENDIMIENTO_GLOBAL'] = ord_encoder_1.fit_transform(df[['RENDIMIENTO_GLOBAL']])\n",
        "\n",
        "    return df, ord_encoder_1\n",
        "\n",
        "  else:\n",
        "\n",
        "    return ids, df"
      ],
      "metadata": {
        "id": "eddfFmlW4FuY"
      },
      "execution_count": 16,
      "outputs": []
    },
    {
      "cell_type": "markdown",
      "source": [
        "Se cargan los datasets"
      ],
      "metadata": {
        "id": "JOnEqXEausvE"
      }
    },
    {
      "cell_type": "code",
      "source": [
        "train_dataset = pd.read_csv('/content/train.csv')\n",
        "test_dataset = pd.read_csv('/content/test.csv')"
      ],
      "metadata": {
        "id": "94ZvwJSMufAV"
      },
      "execution_count": 17,
      "outputs": []
    },
    {
      "cell_type": "code",
      "source": [
        "data, target_encoder = preprocess_data(train_dataset)\n",
        "X = data.drop('RENDIMIENTO_GLOBAL', axis=1)\n",
        "y = data['RENDIMIENTO_GLOBAL']"
      ],
      "metadata": {
        "id": "Ny5udHWyNrKT"
      },
      "execution_count": 18,
      "outputs": []
    },
    {
      "cell_type": "markdown",
      "source": [
        "Se define los parámetros de la malla y se realiza el entrenamiento"
      ],
      "metadata": {
        "id": "BKZxdaAnUlCW"
      }
    },
    {
      "cell_type": "code",
      "metadata": {
        "colab": {
          "base_uri": "https://localhost:8080/",
          "height": 361
        },
        "id": "6facd459",
        "outputId": "7f15327b-0128-4864-e244-b90a3de05fd8"
      },
      "source": [
        "# Define the neural network model\n",
        "model = Sequential([\n",
        "\n",
        "    Dense(128, activation='relu', input_shape=(X.shape[1],)),\n",
        "    Dropout(0.4),\n",
        "    Dense(64, activation='relu'),\n",
        "    Dropout(0.4),\n",
        "    Dense(4, activation='softmax')\n",
        "])\n",
        "\n",
        "# Compile the model\n",
        "model.compile(optimizer=Adam(learning_rate=0.001),\n",
        "              loss='sparse_categorical_crossentropy',\n",
        "              metrics=['accuracy'])\n",
        "\n",
        "# Display the model summary\n",
        "model.summary()"
      ],
      "execution_count": 19,
      "outputs": [
        {
          "output_type": "stream",
          "name": "stderr",
          "text": [
            "/usr/local/lib/python3.11/dist-packages/keras/src/layers/core/dense.py:87: UserWarning: Do not pass an `input_shape`/`input_dim` argument to a layer. When using Sequential models, prefer using an `Input(shape)` object as the first layer in the model instead.\n",
            "  super().__init__(activity_regularizer=activity_regularizer, **kwargs)\n"
          ]
        },
        {
          "output_type": "display_data",
          "data": {
            "text/plain": [
              "\u001b[1mModel: \"sequential\"\u001b[0m\n"
            ],
            "text/html": [
              "<pre style=\"white-space:pre;overflow-x:auto;line-height:normal;font-family:Menlo,'DejaVu Sans Mono',consolas,'Courier New',monospace\"><span style=\"font-weight: bold\">Model: \"sequential\"</span>\n",
              "</pre>\n"
            ]
          },
          "metadata": {}
        },
        {
          "output_type": "display_data",
          "data": {
            "text/plain": [
              "┏━━━━━━━━━━━━━━━━━━━━━━━━━━━━━━━━━┳━━━━━━━━━━━━━━━━━━━━━━━━┳━━━━━━━━━━━━━━━┓\n",
              "┃\u001b[1m \u001b[0m\u001b[1mLayer (type)                   \u001b[0m\u001b[1m \u001b[0m┃\u001b[1m \u001b[0m\u001b[1mOutput Shape          \u001b[0m\u001b[1m \u001b[0m┃\u001b[1m \u001b[0m\u001b[1m      Param #\u001b[0m\u001b[1m \u001b[0m┃\n",
              "┡━━━━━━━━━━━━━━━━━━━━━━━━━━━━━━━━━╇━━━━━━━━━━━━━━━━━━━━━━━━╇━━━━━━━━━━━━━━━┩\n",
              "│ dense (\u001b[38;5;33mDense\u001b[0m)                   │ (\u001b[38;5;45mNone\u001b[0m, \u001b[38;5;34m128\u001b[0m)            │         \u001b[38;5;34m8,704\u001b[0m │\n",
              "├─────────────────────────────────┼────────────────────────┼───────────────┤\n",
              "│ dropout (\u001b[38;5;33mDropout\u001b[0m)               │ (\u001b[38;5;45mNone\u001b[0m, \u001b[38;5;34m128\u001b[0m)            │             \u001b[38;5;34m0\u001b[0m │\n",
              "├─────────────────────────────────┼────────────────────────┼───────────────┤\n",
              "│ dense_1 (\u001b[38;5;33mDense\u001b[0m)                 │ (\u001b[38;5;45mNone\u001b[0m, \u001b[38;5;34m64\u001b[0m)             │         \u001b[38;5;34m8,256\u001b[0m │\n",
              "├─────────────────────────────────┼────────────────────────┼───────────────┤\n",
              "│ dropout_1 (\u001b[38;5;33mDropout\u001b[0m)             │ (\u001b[38;5;45mNone\u001b[0m, \u001b[38;5;34m64\u001b[0m)             │             \u001b[38;5;34m0\u001b[0m │\n",
              "├─────────────────────────────────┼────────────────────────┼───────────────┤\n",
              "│ dense_2 (\u001b[38;5;33mDense\u001b[0m)                 │ (\u001b[38;5;45mNone\u001b[0m, \u001b[38;5;34m4\u001b[0m)              │           \u001b[38;5;34m260\u001b[0m │\n",
              "└─────────────────────────────────┴────────────────────────┴───────────────┘\n"
            ],
            "text/html": [
              "<pre style=\"white-space:pre;overflow-x:auto;line-height:normal;font-family:Menlo,'DejaVu Sans Mono',consolas,'Courier New',monospace\">┏━━━━━━━━━━━━━━━━━━━━━━━━━━━━━━━━━┳━━━━━━━━━━━━━━━━━━━━━━━━┳━━━━━━━━━━━━━━━┓\n",
              "┃<span style=\"font-weight: bold\"> Layer (type)                    </span>┃<span style=\"font-weight: bold\"> Output Shape           </span>┃<span style=\"font-weight: bold\">       Param # </span>┃\n",
              "┡━━━━━━━━━━━━━━━━━━━━━━━━━━━━━━━━━╇━━━━━━━━━━━━━━━━━━━━━━━━╇━━━━━━━━━━━━━━━┩\n",
              "│ dense (<span style=\"color: #0087ff; text-decoration-color: #0087ff\">Dense</span>)                   │ (<span style=\"color: #00d7ff; text-decoration-color: #00d7ff\">None</span>, <span style=\"color: #00af00; text-decoration-color: #00af00\">128</span>)            │         <span style=\"color: #00af00; text-decoration-color: #00af00\">8,704</span> │\n",
              "├─────────────────────────────────┼────────────────────────┼───────────────┤\n",
              "│ dropout (<span style=\"color: #0087ff; text-decoration-color: #0087ff\">Dropout</span>)               │ (<span style=\"color: #00d7ff; text-decoration-color: #00d7ff\">None</span>, <span style=\"color: #00af00; text-decoration-color: #00af00\">128</span>)            │             <span style=\"color: #00af00; text-decoration-color: #00af00\">0</span> │\n",
              "├─────────────────────────────────┼────────────────────────┼───────────────┤\n",
              "│ dense_1 (<span style=\"color: #0087ff; text-decoration-color: #0087ff\">Dense</span>)                 │ (<span style=\"color: #00d7ff; text-decoration-color: #00d7ff\">None</span>, <span style=\"color: #00af00; text-decoration-color: #00af00\">64</span>)             │         <span style=\"color: #00af00; text-decoration-color: #00af00\">8,256</span> │\n",
              "├─────────────────────────────────┼────────────────────────┼───────────────┤\n",
              "│ dropout_1 (<span style=\"color: #0087ff; text-decoration-color: #0087ff\">Dropout</span>)             │ (<span style=\"color: #00d7ff; text-decoration-color: #00d7ff\">None</span>, <span style=\"color: #00af00; text-decoration-color: #00af00\">64</span>)             │             <span style=\"color: #00af00; text-decoration-color: #00af00\">0</span> │\n",
              "├─────────────────────────────────┼────────────────────────┼───────────────┤\n",
              "│ dense_2 (<span style=\"color: #0087ff; text-decoration-color: #0087ff\">Dense</span>)                 │ (<span style=\"color: #00d7ff; text-decoration-color: #00d7ff\">None</span>, <span style=\"color: #00af00; text-decoration-color: #00af00\">4</span>)              │           <span style=\"color: #00af00; text-decoration-color: #00af00\">260</span> │\n",
              "└─────────────────────────────────┴────────────────────────┴───────────────┘\n",
              "</pre>\n"
            ]
          },
          "metadata": {}
        },
        {
          "output_type": "display_data",
          "data": {
            "text/plain": [
              "\u001b[1m Total params: \u001b[0m\u001b[38;5;34m17,220\u001b[0m (67.27 KB)\n"
            ],
            "text/html": [
              "<pre style=\"white-space:pre;overflow-x:auto;line-height:normal;font-family:Menlo,'DejaVu Sans Mono',consolas,'Courier New',monospace\"><span style=\"font-weight: bold\"> Total params: </span><span style=\"color: #00af00; text-decoration-color: #00af00\">17,220</span> (67.27 KB)\n",
              "</pre>\n"
            ]
          },
          "metadata": {}
        },
        {
          "output_type": "display_data",
          "data": {
            "text/plain": [
              "\u001b[1m Trainable params: \u001b[0m\u001b[38;5;34m17,220\u001b[0m (67.27 KB)\n"
            ],
            "text/html": [
              "<pre style=\"white-space:pre;overflow-x:auto;line-height:normal;font-family:Menlo,'DejaVu Sans Mono',consolas,'Courier New',monospace\"><span style=\"font-weight: bold\"> Trainable params: </span><span style=\"color: #00af00; text-decoration-color: #00af00\">17,220</span> (67.27 KB)\n",
              "</pre>\n"
            ]
          },
          "metadata": {}
        },
        {
          "output_type": "display_data",
          "data": {
            "text/plain": [
              "\u001b[1m Non-trainable params: \u001b[0m\u001b[38;5;34m0\u001b[0m (0.00 B)\n"
            ],
            "text/html": [
              "<pre style=\"white-space:pre;overflow-x:auto;line-height:normal;font-family:Menlo,'DejaVu Sans Mono',consolas,'Courier New',monospace\"><span style=\"font-weight: bold\"> Non-trainable params: </span><span style=\"color: #00af00; text-decoration-color: #00af00\">0</span> (0.00 B)\n",
              "</pre>\n"
            ]
          },
          "metadata": {}
        }
      ]
    },
    {
      "cell_type": "code",
      "metadata": {
        "colab": {
          "base_uri": "https://localhost:8080/"
        },
        "id": "3388da36",
        "outputId": "17ae73b5-d665-44d3-e9c2-b88899d38dbf"
      },
      "source": [
        "# Define the learning rate scheduler\n",
        "reduce_lr = ReduceLROnPlateau(monitor='val_loss', factor=0.5,\n",
        "                              patience=5, min_lr=0.000001)\n",
        "\n",
        "# Train the model with the scheduler\n",
        "history = model.fit(X, y, epochs=150, batch_size=32, validation_split=0.05, callbacks=[reduce_lr])"
      ],
      "execution_count": 24,
      "outputs": [
        {
          "output_type": "stream",
          "name": "stdout",
          "text": [
            "Epoch 1/150\n",
            "\u001b[1m20559/20559\u001b[0m \u001b[32m━━━━━━━━━━━━━━━━━━━━\u001b[0m\u001b[37m\u001b[0m \u001b[1m39s\u001b[0m 2ms/step - accuracy: 0.4039 - loss: 1.2529 - val_accuracy: 0.4054 - val_loss: 1.2496 - learning_rate: 0.0010\n",
            "Epoch 2/150\n",
            "\u001b[1m20559/20559\u001b[0m \u001b[32m━━━━━━━━━━━━━━━━━━━━\u001b[0m\u001b[37m\u001b[0m \u001b[1m40s\u001b[0m 2ms/step - accuracy: 0.4046 - loss: 1.2533 - val_accuracy: 0.4048 - val_loss: 1.2484 - learning_rate: 0.0010\n",
            "Epoch 3/150\n",
            "\u001b[1m20559/20559\u001b[0m \u001b[32m━━━━━━━━━━━━━━━━━━━━\u001b[0m\u001b[37m\u001b[0m \u001b[1m40s\u001b[0m 2ms/step - accuracy: 0.4048 - loss: 1.2516 - val_accuracy: 0.4051 - val_loss: 1.2493 - learning_rate: 0.0010\n",
            "Epoch 4/150\n",
            "\u001b[1m20559/20559\u001b[0m \u001b[32m━━━━━━━━━━━━━━━━━━━━\u001b[0m\u001b[37m\u001b[0m \u001b[1m40s\u001b[0m 2ms/step - accuracy: 0.4038 - loss: 1.2536 - val_accuracy: 0.4054 - val_loss: 1.2487 - learning_rate: 0.0010\n",
            "Epoch 5/150\n",
            "\u001b[1m20559/20559\u001b[0m \u001b[32m━━━━━━━━━━━━━━━━━━━━\u001b[0m\u001b[37m\u001b[0m \u001b[1m39s\u001b[0m 2ms/step - accuracy: 0.4052 - loss: 1.2528 - val_accuracy: 0.4043 - val_loss: 1.2505 - learning_rate: 0.0010\n",
            "Epoch 6/150\n",
            "\u001b[1m20559/20559\u001b[0m \u001b[32m━━━━━━━━━━━━━━━━━━━━\u001b[0m\u001b[37m\u001b[0m \u001b[1m39s\u001b[0m 2ms/step - accuracy: 0.4052 - loss: 1.2532 - val_accuracy: 0.4045 - val_loss: 1.2498 - learning_rate: 0.0010\n",
            "Epoch 7/150\n",
            "\u001b[1m20559/20559\u001b[0m \u001b[32m━━━━━━━━━━━━━━━━━━━━\u001b[0m\u001b[37m\u001b[0m \u001b[1m39s\u001b[0m 2ms/step - accuracy: 0.4046 - loss: 1.2519 - val_accuracy: 0.4032 - val_loss: 1.2490 - learning_rate: 0.0010\n",
            "Epoch 8/150\n",
            "\u001b[1m20559/20559\u001b[0m \u001b[32m━━━━━━━━━━━━━━━━━━━━\u001b[0m\u001b[37m\u001b[0m \u001b[1m39s\u001b[0m 2ms/step - accuracy: 0.4062 - loss: 1.2483 - val_accuracy: 0.4052 - val_loss: 1.2490 - learning_rate: 5.0000e-04\n",
            "Epoch 9/150\n",
            "\u001b[1m20559/20559\u001b[0m \u001b[32m━━━━━━━━━━━━━━━━━━━━\u001b[0m\u001b[37m\u001b[0m \u001b[1m39s\u001b[0m 2ms/step - accuracy: 0.4075 - loss: 1.2490 - val_accuracy: 0.4061 - val_loss: 1.2477 - learning_rate: 5.0000e-04\n",
            "Epoch 10/150\n",
            "\u001b[1m20559/20559\u001b[0m \u001b[32m━━━━━━━━━━━━━━━━━━━━\u001b[0m\u001b[37m\u001b[0m \u001b[1m39s\u001b[0m 2ms/step - accuracy: 0.4071 - loss: 1.2480 - val_accuracy: 0.4065 - val_loss: 1.2499 - learning_rate: 5.0000e-04\n",
            "Epoch 11/150\n",
            "\u001b[1m20559/20559\u001b[0m \u001b[32m━━━━━━━━━━━━━━━━━━━━\u001b[0m\u001b[37m\u001b[0m \u001b[1m38s\u001b[0m 2ms/step - accuracy: 0.4077 - loss: 1.2475 - val_accuracy: 0.4060 - val_loss: 1.2479 - learning_rate: 5.0000e-04\n",
            "Epoch 12/150\n",
            "\u001b[1m20559/20559\u001b[0m \u001b[32m━━━━━━━━━━━━━━━━━━━━\u001b[0m\u001b[37m\u001b[0m \u001b[1m40s\u001b[0m 2ms/step - accuracy: 0.4076 - loss: 1.2477 - val_accuracy: 0.4072 - val_loss: 1.2482 - learning_rate: 5.0000e-04\n",
            "Epoch 13/150\n",
            "\u001b[1m20559/20559\u001b[0m \u001b[32m━━━━━━━━━━━━━━━━━━━━\u001b[0m\u001b[37m\u001b[0m \u001b[1m39s\u001b[0m 2ms/step - accuracy: 0.4074 - loss: 1.2484 - val_accuracy: 0.4063 - val_loss: 1.2509 - learning_rate: 5.0000e-04\n",
            "Epoch 14/150\n",
            "\u001b[1m20559/20559\u001b[0m \u001b[32m━━━━━━━━━━━━━━━━━━━━\u001b[0m\u001b[37m\u001b[0m \u001b[1m40s\u001b[0m 2ms/step - accuracy: 0.4088 - loss: 1.2471 - val_accuracy: 0.4054 - val_loss: 1.2474 - learning_rate: 5.0000e-04\n",
            "Epoch 15/150\n",
            "\u001b[1m20559/20559\u001b[0m \u001b[32m━━━━━━━━━━━━━━━━━━━━\u001b[0m\u001b[37m\u001b[0m \u001b[1m39s\u001b[0m 2ms/step - accuracy: 0.4072 - loss: 1.2482 - val_accuracy: 0.4063 - val_loss: 1.2497 - learning_rate: 5.0000e-04\n",
            "Epoch 16/150\n",
            "\u001b[1m20559/20559\u001b[0m \u001b[32m━━━━━━━━━━━━━━━━━━━━\u001b[0m\u001b[37m\u001b[0m \u001b[1m40s\u001b[0m 2ms/step - accuracy: 0.4084 - loss: 1.2475 - val_accuracy: 0.4063 - val_loss: 1.2473 - learning_rate: 5.0000e-04\n",
            "Epoch 17/150\n",
            "\u001b[1m20559/20559\u001b[0m \u001b[32m━━━━━━━━━━━━━━━━━━━━\u001b[0m\u001b[37m\u001b[0m \u001b[1m38s\u001b[0m 2ms/step - accuracy: 0.4086 - loss: 1.2467 - val_accuracy: 0.4055 - val_loss: 1.2497 - learning_rate: 5.0000e-04\n",
            "Epoch 18/150\n",
            "\u001b[1m20559/20559\u001b[0m \u001b[32m━━━━━━━━━━━━━━━━━━━━\u001b[0m\u001b[37m\u001b[0m \u001b[1m39s\u001b[0m 2ms/step - accuracy: 0.4081 - loss: 1.2467 - val_accuracy: 0.4055 - val_loss: 1.2483 - learning_rate: 5.0000e-04\n",
            "Epoch 19/150\n",
            "\u001b[1m20559/20559\u001b[0m \u001b[32m━━━━━━━━━━━━━━━━━━━━\u001b[0m\u001b[37m\u001b[0m \u001b[1m41s\u001b[0m 2ms/step - accuracy: 0.4089 - loss: 1.2474 - val_accuracy: 0.4063 - val_loss: 1.2478 - learning_rate: 5.0000e-04\n",
            "Epoch 20/150\n",
            "\u001b[1m20559/20559\u001b[0m \u001b[32m━━━━━━━━━━━━━━━━━━━━\u001b[0m\u001b[37m\u001b[0m \u001b[1m39s\u001b[0m 2ms/step - accuracy: 0.4086 - loss: 1.2464 - val_accuracy: 0.4075 - val_loss: 1.2468 - learning_rate: 2.5000e-04\n",
            "Epoch 21/150\n",
            "\u001b[1m20559/20559\u001b[0m \u001b[32m━━━━━━━━━━━━━━━━━━━━\u001b[0m\u001b[37m\u001b[0m \u001b[1m39s\u001b[0m 2ms/step - accuracy: 0.4098 - loss: 1.2453 - val_accuracy: 0.4079 - val_loss: 1.2477 - learning_rate: 2.5000e-04\n",
            "Epoch 22/150\n",
            "\u001b[1m20559/20559\u001b[0m \u001b[32m━━━━━━━━━━━━━━━━━━━━\u001b[0m\u001b[37m\u001b[0m \u001b[1m39s\u001b[0m 2ms/step - accuracy: 0.4090 - loss: 1.2449 - val_accuracy: 0.4075 - val_loss: 1.2465 - learning_rate: 2.5000e-04\n",
            "Epoch 23/150\n",
            "\u001b[1m20559/20559\u001b[0m \u001b[32m━━━━━━━━━━━━━━━━━━━━\u001b[0m\u001b[37m\u001b[0m \u001b[1m38s\u001b[0m 2ms/step - accuracy: 0.4097 - loss: 1.2443 - val_accuracy: 0.4090 - val_loss: 1.2470 - learning_rate: 2.5000e-04\n",
            "Epoch 24/150\n",
            "\u001b[1m20559/20559\u001b[0m \u001b[32m━━━━━━━━━━━━━━━━━━━━\u001b[0m\u001b[37m\u001b[0m \u001b[1m39s\u001b[0m 2ms/step - accuracy: 0.4100 - loss: 1.2450 - val_accuracy: 0.4074 - val_loss: 1.2476 - learning_rate: 2.5000e-04\n",
            "Epoch 25/150\n",
            "\u001b[1m20559/20559\u001b[0m \u001b[32m━━━━━━━━━━━━━━━━━━━━\u001b[0m\u001b[37m\u001b[0m \u001b[1m38s\u001b[0m 2ms/step - accuracy: 0.4107 - loss: 1.2448 - val_accuracy: 0.4079 - val_loss: 1.2474 - learning_rate: 2.5000e-04\n",
            "Epoch 26/150\n",
            "\u001b[1m20559/20559\u001b[0m \u001b[32m━━━━━━━━━━━━━━━━━━━━\u001b[0m\u001b[37m\u001b[0m \u001b[1m39s\u001b[0m 2ms/step - accuracy: 0.4105 - loss: 1.2439 - val_accuracy: 0.4078 - val_loss: 1.2466 - learning_rate: 2.5000e-04\n",
            "Epoch 27/150\n",
            "\u001b[1m20559/20559\u001b[0m \u001b[32m━━━━━━━━━━━━━━━━━━━━\u001b[0m\u001b[37m\u001b[0m \u001b[1m38s\u001b[0m 2ms/step - accuracy: 0.4102 - loss: 1.2435 - val_accuracy: 0.4064 - val_loss: 1.2498 - learning_rate: 2.5000e-04\n",
            "Epoch 28/150\n",
            "\u001b[1m20559/20559\u001b[0m \u001b[32m━━━━━━━━━━━━━━━━━━━━\u001b[0m\u001b[37m\u001b[0m \u001b[1m39s\u001b[0m 2ms/step - accuracy: 0.4095 - loss: 1.2446 - val_accuracy: 0.4066 - val_loss: 1.2473 - learning_rate: 1.2500e-04\n",
            "Epoch 29/150\n",
            "\u001b[1m20559/20559\u001b[0m \u001b[32m━━━━━━━━━━━━━━━━━━━━\u001b[0m\u001b[37m\u001b[0m \u001b[1m39s\u001b[0m 2ms/step - accuracy: 0.4096 - loss: 1.2442 - val_accuracy: 0.4070 - val_loss: 1.2482 - learning_rate: 1.2500e-04\n",
            "Epoch 30/150\n",
            "\u001b[1m20559/20559\u001b[0m \u001b[32m━━━━━━━━━━━━━━━━━━━━\u001b[0m\u001b[37m\u001b[0m \u001b[1m39s\u001b[0m 2ms/step - accuracy: 0.4100 - loss: 1.2444 - val_accuracy: 0.4072 - val_loss: 1.2470 - learning_rate: 1.2500e-04\n",
            "Epoch 31/150\n",
            "\u001b[1m20559/20559\u001b[0m \u001b[32m━━━━━━━━━━━━━━━━━━━━\u001b[0m\u001b[37m\u001b[0m \u001b[1m39s\u001b[0m 2ms/step - accuracy: 0.4099 - loss: 1.2441 - val_accuracy: 0.4086 - val_loss: 1.2475 - learning_rate: 1.2500e-04\n",
            "Epoch 32/150\n",
            "\u001b[1m20559/20559\u001b[0m \u001b[32m━━━━━━━━━━━━━━━━━━━━\u001b[0m\u001b[37m\u001b[0m \u001b[1m39s\u001b[0m 2ms/step - accuracy: 0.4104 - loss: 1.2431 - val_accuracy: 0.4073 - val_loss: 1.2467 - learning_rate: 1.2500e-04\n",
            "Epoch 33/150\n",
            "\u001b[1m20559/20559\u001b[0m \u001b[32m━━━━━━━━━━━━━━━━━━━━\u001b[0m\u001b[37m\u001b[0m \u001b[1m39s\u001b[0m 2ms/step - accuracy: 0.4103 - loss: 1.2432 - val_accuracy: 0.4062 - val_loss: 1.2466 - learning_rate: 6.2500e-05\n",
            "Epoch 34/150\n",
            "\u001b[1m20559/20559\u001b[0m \u001b[32m━━━━━━━━━━━━━━━━━━━━\u001b[0m\u001b[37m\u001b[0m \u001b[1m39s\u001b[0m 2ms/step - accuracy: 0.4121 - loss: 1.2423 - val_accuracy: 0.4072 - val_loss: 1.2472 - learning_rate: 6.2500e-05\n",
            "Epoch 35/150\n",
            "\u001b[1m20559/20559\u001b[0m \u001b[32m━━━━━━━━━━━━━━━━━━━━\u001b[0m\u001b[37m\u001b[0m \u001b[1m38s\u001b[0m 2ms/step - accuracy: 0.4103 - loss: 1.2439 - val_accuracy: 0.4064 - val_loss: 1.2473 - learning_rate: 6.2500e-05\n",
            "Epoch 36/150\n",
            "\u001b[1m20559/20559\u001b[0m \u001b[32m━━━━━━━━━━━━━━━━━━━━\u001b[0m\u001b[37m\u001b[0m \u001b[1m39s\u001b[0m 2ms/step - accuracy: 0.4105 - loss: 1.2432 - val_accuracy: 0.4069 - val_loss: 1.2471 - learning_rate: 6.2500e-05\n",
            "Epoch 37/150\n",
            "\u001b[1m20559/20559\u001b[0m \u001b[32m━━━━━━━━━━━━━━━━━━━━\u001b[0m\u001b[37m\u001b[0m \u001b[1m40s\u001b[0m 2ms/step - accuracy: 0.4110 - loss: 1.2431 - val_accuracy: 0.4066 - val_loss: 1.2468 - learning_rate: 6.2500e-05\n",
            "Epoch 38/150\n",
            "\u001b[1m20559/20559\u001b[0m \u001b[32m━━━━━━━━━━━━━━━━━━━━\u001b[0m\u001b[37m\u001b[0m \u001b[1m39s\u001b[0m 2ms/step - accuracy: 0.4123 - loss: 1.2417 - val_accuracy: 0.4069 - val_loss: 1.2474 - learning_rate: 3.1250e-05\n",
            "Epoch 39/150\n",
            "\u001b[1m20559/20559\u001b[0m \u001b[32m━━━━━━━━━━━━━━━━━━━━\u001b[0m\u001b[37m\u001b[0m \u001b[1m39s\u001b[0m 2ms/step - accuracy: 0.4096 - loss: 1.2432 - val_accuracy: 0.4069 - val_loss: 1.2469 - learning_rate: 3.1250e-05\n",
            "Epoch 40/150\n",
            "\u001b[1m20559/20559\u001b[0m \u001b[32m━━━━━━━━━━━━━━━━━━━━\u001b[0m\u001b[37m\u001b[0m \u001b[1m38s\u001b[0m 2ms/step - accuracy: 0.4099 - loss: 1.2431 - val_accuracy: 0.4073 - val_loss: 1.2472 - learning_rate: 3.1250e-05\n",
            "Epoch 41/150\n",
            "\u001b[1m20559/20559\u001b[0m \u001b[32m━━━━━━━━━━━━━━━━━━━━\u001b[0m\u001b[37m\u001b[0m \u001b[1m39s\u001b[0m 2ms/step - accuracy: 0.4106 - loss: 1.2423 - val_accuracy: 0.4067 - val_loss: 1.2473 - learning_rate: 3.1250e-05\n",
            "Epoch 42/150\n",
            "\u001b[1m20559/20559\u001b[0m \u001b[32m━━━━━━━━━━━━━━━━━━━━\u001b[0m\u001b[37m\u001b[0m \u001b[1m39s\u001b[0m 2ms/step - accuracy: 0.4110 - loss: 1.2425 - val_accuracy: 0.4069 - val_loss: 1.2468 - learning_rate: 3.1250e-05\n",
            "Epoch 43/150\n",
            "\u001b[1m20559/20559\u001b[0m \u001b[32m━━━━━━━━━━━━━━━━━━━━\u001b[0m\u001b[37m\u001b[0m \u001b[1m39s\u001b[0m 2ms/step - accuracy: 0.4124 - loss: 1.2420 - val_accuracy: 0.4060 - val_loss: 1.2471 - learning_rate: 1.5625e-05\n",
            "Epoch 44/150\n",
            "\u001b[1m20559/20559\u001b[0m \u001b[32m━━━━━━━━━━━━━━━━━━━━\u001b[0m\u001b[37m\u001b[0m \u001b[1m39s\u001b[0m 2ms/step - accuracy: 0.4106 - loss: 1.2431 - val_accuracy: 0.4066 - val_loss: 1.2472 - learning_rate: 1.5625e-05\n",
            "Epoch 45/150\n",
            "\u001b[1m20559/20559\u001b[0m \u001b[32m━━━━━━━━━━━━━━━━━━━━\u001b[0m\u001b[37m\u001b[0m \u001b[1m38s\u001b[0m 2ms/step - accuracy: 0.4112 - loss: 1.2421 - val_accuracy: 0.4062 - val_loss: 1.2471 - learning_rate: 1.5625e-05\n",
            "Epoch 46/150\n",
            "\u001b[1m20559/20559\u001b[0m \u001b[32m━━━━━━━━━━━━━━━━━━━━\u001b[0m\u001b[37m\u001b[0m \u001b[1m39s\u001b[0m 2ms/step - accuracy: 0.4111 - loss: 1.2425 - val_accuracy: 0.4072 - val_loss: 1.2471 - learning_rate: 1.5625e-05\n",
            "Epoch 47/150\n",
            "\u001b[1m20559/20559\u001b[0m \u001b[32m━━━━━━━━━━━━━━━━━━━━\u001b[0m\u001b[37m\u001b[0m \u001b[1m38s\u001b[0m 2ms/step - accuracy: 0.4117 - loss: 1.2419 - val_accuracy: 0.4071 - val_loss: 1.2472 - learning_rate: 1.5625e-05\n",
            "Epoch 48/150\n",
            "\u001b[1m20559/20559\u001b[0m \u001b[32m━━━━━━━━━━━━━━━━━━━━\u001b[0m\u001b[37m\u001b[0m \u001b[1m40s\u001b[0m 2ms/step - accuracy: 0.4104 - loss: 1.2430 - val_accuracy: 0.4072 - val_loss: 1.2471 - learning_rate: 7.8125e-06\n",
            "Epoch 49/150\n",
            "\u001b[1m20559/20559\u001b[0m \u001b[32m━━━━━━━━━━━━━━━━━━━━\u001b[0m\u001b[37m\u001b[0m \u001b[1m39s\u001b[0m 2ms/step - accuracy: 0.4113 - loss: 1.2424 - val_accuracy: 0.4064 - val_loss: 1.2472 - learning_rate: 7.8125e-06\n",
            "Epoch 50/150\n",
            "\u001b[1m20559/20559\u001b[0m \u001b[32m━━━━━━━━━━━━━━━━━━━━\u001b[0m\u001b[37m\u001b[0m \u001b[1m40s\u001b[0m 2ms/step - accuracy: 0.4121 - loss: 1.2413 - val_accuracy: 0.4069 - val_loss: 1.2472 - learning_rate: 7.8125e-06\n",
            "Epoch 51/150\n",
            "\u001b[1m20559/20559\u001b[0m \u001b[32m━━━━━━━━━━━━━━━━━━━━\u001b[0m\u001b[37m\u001b[0m \u001b[1m40s\u001b[0m 2ms/step - accuracy: 0.4113 - loss: 1.2418 - val_accuracy: 0.4072 - val_loss: 1.2469 - learning_rate: 7.8125e-06\n",
            "Epoch 52/150\n",
            "\u001b[1m20559/20559\u001b[0m \u001b[32m━━━━━━━━━━━━━━━━━━━━\u001b[0m\u001b[37m\u001b[0m \u001b[1m39s\u001b[0m 2ms/step - accuracy: 0.4102 - loss: 1.2431 - val_accuracy: 0.4068 - val_loss: 1.2470 - learning_rate: 7.8125e-06\n",
            "Epoch 53/150\n",
            "\u001b[1m20559/20559\u001b[0m \u001b[32m━━━━━━━━━━━━━━━━━━━━\u001b[0m\u001b[37m\u001b[0m \u001b[1m39s\u001b[0m 2ms/step - accuracy: 0.4105 - loss: 1.2431 - val_accuracy: 0.4071 - val_loss: 1.2471 - learning_rate: 3.9063e-06\n",
            "Epoch 54/150\n",
            "\u001b[1m20559/20559\u001b[0m \u001b[32m━━━━━━━━━━━━━━━━━━━━\u001b[0m\u001b[37m\u001b[0m \u001b[1m40s\u001b[0m 2ms/step - accuracy: 0.4122 - loss: 1.2425 - val_accuracy: 0.4066 - val_loss: 1.2470 - learning_rate: 3.9063e-06\n",
            "Epoch 55/150\n",
            "\u001b[1m20559/20559\u001b[0m \u001b[32m━━━━━━━━━━━━━━━━━━━━\u001b[0m\u001b[37m\u001b[0m \u001b[1m40s\u001b[0m 2ms/step - accuracy: 0.4115 - loss: 1.2420 - val_accuracy: 0.4067 - val_loss: 1.2470 - learning_rate: 3.9063e-06\n",
            "Epoch 56/150\n",
            "\u001b[1m20559/20559\u001b[0m \u001b[32m━━━━━━━━━━━━━━━━━━━━\u001b[0m\u001b[37m\u001b[0m \u001b[1m40s\u001b[0m 2ms/step - accuracy: 0.4101 - loss: 1.2430 - val_accuracy: 0.4065 - val_loss: 1.2470 - learning_rate: 3.9063e-06\n",
            "Epoch 57/150\n",
            "\u001b[1m20559/20559\u001b[0m \u001b[32m━━━━━━━━━━━━━━━━━━━━\u001b[0m\u001b[37m\u001b[0m \u001b[1m40s\u001b[0m 2ms/step - accuracy: 0.4113 - loss: 1.2411 - val_accuracy: 0.4066 - val_loss: 1.2470 - learning_rate: 3.9063e-06\n",
            "Epoch 58/150\n",
            "\u001b[1m20559/20559\u001b[0m \u001b[32m━━━━━━━━━━━━━━━━━━━━\u001b[0m\u001b[37m\u001b[0m \u001b[1m40s\u001b[0m 2ms/step - accuracy: 0.4106 - loss: 1.2434 - val_accuracy: 0.4065 - val_loss: 1.2470 - learning_rate: 1.9531e-06\n",
            "Epoch 59/150\n",
            "\u001b[1m20559/20559\u001b[0m \u001b[32m━━━━━━━━━━━━━━━━━━━━\u001b[0m\u001b[37m\u001b[0m \u001b[1m39s\u001b[0m 2ms/step - accuracy: 0.4117 - loss: 1.2416 - val_accuracy: 0.4065 - val_loss: 1.2470 - learning_rate: 1.9531e-06\n",
            "Epoch 60/150\n",
            "\u001b[1m20559/20559\u001b[0m \u001b[32m━━━━━━━━━━━━━━━━━━━━\u001b[0m\u001b[37m\u001b[0m \u001b[1m39s\u001b[0m 2ms/step - accuracy: 0.4130 - loss: 1.2419 - val_accuracy: 0.4064 - val_loss: 1.2470 - learning_rate: 1.9531e-06\n",
            "Epoch 61/150\n",
            "\u001b[1m20559/20559\u001b[0m \u001b[32m━━━━━━━━━━━━━━━━━━━━\u001b[0m\u001b[37m\u001b[0m \u001b[1m38s\u001b[0m 2ms/step - accuracy: 0.4109 - loss: 1.2423 - val_accuracy: 0.4066 - val_loss: 1.2470 - learning_rate: 1.9531e-06\n",
            "Epoch 62/150\n",
            "\u001b[1m20559/20559\u001b[0m \u001b[32m━━━━━━━━━━━━━━━━━━━━\u001b[0m\u001b[37m\u001b[0m \u001b[1m39s\u001b[0m 2ms/step - accuracy: 0.4115 - loss: 1.2424 - val_accuracy: 0.4066 - val_loss: 1.2470 - learning_rate: 1.9531e-06\n",
            "Epoch 63/150\n",
            "\u001b[1m20559/20559\u001b[0m \u001b[32m━━━━━━━━━━━━━━━━━━━━\u001b[0m\u001b[37m\u001b[0m \u001b[1m39s\u001b[0m 2ms/step - accuracy: 0.4105 - loss: 1.2422 - val_accuracy: 0.4067 - val_loss: 1.2470 - learning_rate: 1.0000e-06\n",
            "Epoch 64/150\n",
            "\u001b[1m20559/20559\u001b[0m \u001b[32m━━━━━━━━━━━━━━━━━━━━\u001b[0m\u001b[37m\u001b[0m \u001b[1m39s\u001b[0m 2ms/step - accuracy: 0.4110 - loss: 1.2423 - val_accuracy: 0.4066 - val_loss: 1.2470 - learning_rate: 1.0000e-06\n",
            "Epoch 65/150\n",
            "\u001b[1m20559/20559\u001b[0m \u001b[32m━━━━━━━━━━━━━━━━━━━━\u001b[0m\u001b[37m\u001b[0m \u001b[1m39s\u001b[0m 2ms/step - accuracy: 0.4111 - loss: 1.2416 - val_accuracy: 0.4066 - val_loss: 1.2470 - learning_rate: 1.0000e-06\n",
            "Epoch 66/150\n",
            "\u001b[1m20559/20559\u001b[0m \u001b[32m━━━━━━━━━━━━━━━━━━━━\u001b[0m\u001b[37m\u001b[0m \u001b[1m39s\u001b[0m 2ms/step - accuracy: 0.4110 - loss: 1.2421 - val_accuracy: 0.4064 - val_loss: 1.2470 - learning_rate: 1.0000e-06\n",
            "Epoch 67/150\n",
            "\u001b[1m20559/20559\u001b[0m \u001b[32m━━━━━━━━━━━━━━━━━━━━\u001b[0m\u001b[37m\u001b[0m \u001b[1m37s\u001b[0m 2ms/step - accuracy: 0.4097 - loss: 1.2436 - val_accuracy: 0.4064 - val_loss: 1.2470 - learning_rate: 1.0000e-06\n",
            "Epoch 68/150\n",
            "\u001b[1m20559/20559\u001b[0m \u001b[32m━━━━━━━━━━━━━━━━━━━━\u001b[0m\u001b[37m\u001b[0m \u001b[1m38s\u001b[0m 2ms/step - accuracy: 0.4112 - loss: 1.2425 - val_accuracy: 0.4065 - val_loss: 1.2470 - learning_rate: 1.0000e-06\n",
            "Epoch 69/150\n",
            "\u001b[1m20559/20559\u001b[0m \u001b[32m━━━━━━━━━━━━━━━━━━━━\u001b[0m\u001b[37m\u001b[0m \u001b[1m38s\u001b[0m 2ms/step - accuracy: 0.4115 - loss: 1.2421 - val_accuracy: 0.4064 - val_loss: 1.2470 - learning_rate: 1.0000e-06\n",
            "Epoch 70/150\n",
            "\u001b[1m20559/20559\u001b[0m \u001b[32m━━━━━━━━━━━━━━━━━━━━\u001b[0m\u001b[37m\u001b[0m \u001b[1m38s\u001b[0m 2ms/step - accuracy: 0.4119 - loss: 1.2413 - val_accuracy: 0.4063 - val_loss: 1.2470 - learning_rate: 1.0000e-06\n",
            "Epoch 71/150\n",
            "\u001b[1m20559/20559\u001b[0m \u001b[32m━━━━━━━━━━━━━━━━━━━━\u001b[0m\u001b[37m\u001b[0m \u001b[1m38s\u001b[0m 2ms/step - accuracy: 0.4101 - loss: 1.2427 - val_accuracy: 0.4064 - val_loss: 1.2470 - learning_rate: 1.0000e-06\n",
            "Epoch 72/150\n",
            "\u001b[1m20559/20559\u001b[0m \u001b[32m━━━━━━━━━━━━━━━━━━━━\u001b[0m\u001b[37m\u001b[0m \u001b[1m39s\u001b[0m 2ms/step - accuracy: 0.4112 - loss: 1.2423 - val_accuracy: 0.4063 - val_loss: 1.2470 - learning_rate: 1.0000e-06\n",
            "Epoch 73/150\n",
            "\u001b[1m20559/20559\u001b[0m \u001b[32m━━━━━━━━━━━━━━━━━━━━\u001b[0m\u001b[37m\u001b[0m \u001b[1m39s\u001b[0m 2ms/step - accuracy: 0.4104 - loss: 1.2424 - val_accuracy: 0.4064 - val_loss: 1.2470 - learning_rate: 1.0000e-06\n",
            "Epoch 74/150\n",
            "\u001b[1m20559/20559\u001b[0m \u001b[32m━━━━━━━━━━━━━━━━━━━━\u001b[0m\u001b[37m\u001b[0m \u001b[1m39s\u001b[0m 2ms/step - accuracy: 0.4116 - loss: 1.2424 - val_accuracy: 0.4062 - val_loss: 1.2470 - learning_rate: 1.0000e-06\n",
            "Epoch 75/150\n",
            "\u001b[1m20559/20559\u001b[0m \u001b[32m━━━━━━━━━━━━━━━━━━━━\u001b[0m\u001b[37m\u001b[0m \u001b[1m38s\u001b[0m 2ms/step - accuracy: 0.4102 - loss: 1.2429 - val_accuracy: 0.4064 - val_loss: 1.2470 - learning_rate: 1.0000e-06\n",
            "Epoch 76/150\n",
            "\u001b[1m20559/20559\u001b[0m \u001b[32m━━━━━━━━━━━━━━━━━━━━\u001b[0m\u001b[37m\u001b[0m \u001b[1m38s\u001b[0m 2ms/step - accuracy: 0.4128 - loss: 1.2426 - val_accuracy: 0.4064 - val_loss: 1.2470 - learning_rate: 1.0000e-06\n",
            "Epoch 77/150\n",
            "\u001b[1m20559/20559\u001b[0m \u001b[32m━━━━━━━━━━━━━━━━━━━━\u001b[0m\u001b[37m\u001b[0m \u001b[1m39s\u001b[0m 2ms/step - accuracy: 0.4114 - loss: 1.2416 - val_accuracy: 0.4063 - val_loss: 1.2470 - learning_rate: 1.0000e-06\n",
            "Epoch 78/150\n",
            "\u001b[1m20559/20559\u001b[0m \u001b[32m━━━━━━━━━━━━━━━━━━━━\u001b[0m\u001b[37m\u001b[0m \u001b[1m39s\u001b[0m 2ms/step - accuracy: 0.4112 - loss: 1.2421 - val_accuracy: 0.4065 - val_loss: 1.2470 - learning_rate: 1.0000e-06\n",
            "Epoch 79/150\n",
            "\u001b[1m20559/20559\u001b[0m \u001b[32m━━━━━━━━━━━━━━━━━━━━\u001b[0m\u001b[37m\u001b[0m \u001b[1m39s\u001b[0m 2ms/step - accuracy: 0.4107 - loss: 1.2417 - val_accuracy: 0.4063 - val_loss: 1.2471 - learning_rate: 1.0000e-06\n",
            "Epoch 80/150\n",
            "\u001b[1m20559/20559\u001b[0m \u001b[32m━━━━━━━━━━━━━━━━━━━━\u001b[0m\u001b[37m\u001b[0m \u001b[1m38s\u001b[0m 2ms/step - accuracy: 0.4107 - loss: 1.2424 - val_accuracy: 0.4063 - val_loss: 1.2471 - learning_rate: 1.0000e-06\n",
            "Epoch 81/150\n",
            "\u001b[1m20559/20559\u001b[0m \u001b[32m━━━━━━━━━━━━━━━━━━━━\u001b[0m\u001b[37m\u001b[0m \u001b[1m39s\u001b[0m 2ms/step - accuracy: 0.4120 - loss: 1.2418 - val_accuracy: 0.4064 - val_loss: 1.2470 - learning_rate: 1.0000e-06\n",
            "Epoch 82/150\n",
            "\u001b[1m20559/20559\u001b[0m \u001b[32m━━━━━━━━━━━━━━━━━━━━\u001b[0m\u001b[37m\u001b[0m \u001b[1m39s\u001b[0m 2ms/step - accuracy: 0.4124 - loss: 1.2416 - val_accuracy: 0.4062 - val_loss: 1.2470 - learning_rate: 1.0000e-06\n",
            "Epoch 83/150\n",
            "\u001b[1m20559/20559\u001b[0m \u001b[32m━━━━━━━━━━━━━━━━━━━━\u001b[0m\u001b[37m\u001b[0m \u001b[1m39s\u001b[0m 2ms/step - accuracy: 0.4104 - loss: 1.2429 - val_accuracy: 0.4062 - val_loss: 1.2470 - learning_rate: 1.0000e-06\n",
            "Epoch 84/150\n",
            "\u001b[1m20559/20559\u001b[0m \u001b[32m━━━━━━━━━━━━━━━━━━━━\u001b[0m\u001b[37m\u001b[0m \u001b[1m39s\u001b[0m 2ms/step - accuracy: 0.4105 - loss: 1.2422 - val_accuracy: 0.4064 - val_loss: 1.2470 - learning_rate: 1.0000e-06\n",
            "Epoch 85/150\n",
            "\u001b[1m20559/20559\u001b[0m \u001b[32m━━━━━━━━━━━━━━━━━━━━\u001b[0m\u001b[37m\u001b[0m \u001b[1m38s\u001b[0m 2ms/step - accuracy: 0.4125 - loss: 1.2417 - val_accuracy: 0.4062 - val_loss: 1.2470 - learning_rate: 1.0000e-06\n",
            "Epoch 86/150\n",
            "\u001b[1m20559/20559\u001b[0m \u001b[32m━━━━━━━━━━━━━━━━━━━━\u001b[0m\u001b[37m\u001b[0m \u001b[1m39s\u001b[0m 2ms/step - accuracy: 0.4126 - loss: 1.2413 - val_accuracy: 0.4063 - val_loss: 1.2471 - learning_rate: 1.0000e-06\n",
            "Epoch 87/150\n",
            "\u001b[1m20559/20559\u001b[0m \u001b[32m━━━━━━━━━━━━━━━━━━━━\u001b[0m\u001b[37m\u001b[0m \u001b[1m39s\u001b[0m 2ms/step - accuracy: 0.4121 - loss: 1.2413 - val_accuracy: 0.4063 - val_loss: 1.2471 - learning_rate: 1.0000e-06\n",
            "Epoch 88/150\n",
            "\u001b[1m20559/20559\u001b[0m \u001b[32m━━━━━━━━━━━━━━━━━━━━\u001b[0m\u001b[37m\u001b[0m \u001b[1m39s\u001b[0m 2ms/step - accuracy: 0.4112 - loss: 1.2425 - val_accuracy: 0.4062 - val_loss: 1.2470 - learning_rate: 1.0000e-06\n",
            "Epoch 89/150\n",
            "\u001b[1m20559/20559\u001b[0m \u001b[32m━━━━━━━━━━━━━━━━━━━━\u001b[0m\u001b[37m\u001b[0m \u001b[1m38s\u001b[0m 2ms/step - accuracy: 0.4115 - loss: 1.2423 - val_accuracy: 0.4064 - val_loss: 1.2470 - learning_rate: 1.0000e-06\n",
            "Epoch 90/150\n",
            "\u001b[1m20559/20559\u001b[0m \u001b[32m━━━━━━━━━━━━━━━━━━━━\u001b[0m\u001b[37m\u001b[0m \u001b[1m38s\u001b[0m 2ms/step - accuracy: 0.4112 - loss: 1.2420 - val_accuracy: 0.4062 - val_loss: 1.2470 - learning_rate: 1.0000e-06\n",
            "Epoch 91/150\n",
            "\u001b[1m20559/20559\u001b[0m \u001b[32m━━━━━━━━━━━━━━━━━━━━\u001b[0m\u001b[37m\u001b[0m \u001b[1m39s\u001b[0m 2ms/step - accuracy: 0.4107 - loss: 1.2419 - val_accuracy: 0.4061 - val_loss: 1.2470 - learning_rate: 1.0000e-06\n",
            "Epoch 92/150\n",
            "\u001b[1m20559/20559\u001b[0m \u001b[32m━━━━━━━━━━━━━━━━━━━━\u001b[0m\u001b[37m\u001b[0m \u001b[1m39s\u001b[0m 2ms/step - accuracy: 0.4119 - loss: 1.2412 - val_accuracy: 0.4063 - val_loss: 1.2470 - learning_rate: 1.0000e-06\n",
            "Epoch 93/150\n",
            "\u001b[1m20559/20559\u001b[0m \u001b[32m━━━━━━━━━━━━━━━━━━━━\u001b[0m\u001b[37m\u001b[0m \u001b[1m39s\u001b[0m 2ms/step - accuracy: 0.4104 - loss: 1.2426 - val_accuracy: 0.4063 - val_loss: 1.2470 - learning_rate: 1.0000e-06\n",
            "Epoch 94/150\n",
            "\u001b[1m20559/20559\u001b[0m \u001b[32m━━━━━━━━━━━━━━━━━━━━\u001b[0m\u001b[37m\u001b[0m \u001b[1m40s\u001b[0m 2ms/step - accuracy: 0.4108 - loss: 1.2431 - val_accuracy: 0.4064 - val_loss: 1.2470 - learning_rate: 1.0000e-06\n",
            "Epoch 95/150\n",
            "\u001b[1m20559/20559\u001b[0m \u001b[32m━━━━━━━━━━━━━━━━━━━━\u001b[0m\u001b[37m\u001b[0m \u001b[1m40s\u001b[0m 2ms/step - accuracy: 0.4111 - loss: 1.2420 - val_accuracy: 0.4064 - val_loss: 1.2470 - learning_rate: 1.0000e-06\n",
            "Epoch 96/150\n",
            "\u001b[1m20559/20559\u001b[0m \u001b[32m━━━━━━━━━━━━━━━━━━━━\u001b[0m\u001b[37m\u001b[0m \u001b[1m40s\u001b[0m 2ms/step - accuracy: 0.4123 - loss: 1.2407 - val_accuracy: 0.4062 - val_loss: 1.2471 - learning_rate: 1.0000e-06\n",
            "Epoch 97/150\n",
            "\u001b[1m20559/20559\u001b[0m \u001b[32m━━━━━━━━━━━━━━━━━━━━\u001b[0m\u001b[37m\u001b[0m \u001b[1m39s\u001b[0m 2ms/step - accuracy: 0.4107 - loss: 1.2418 - val_accuracy: 0.4062 - val_loss: 1.2470 - learning_rate: 1.0000e-06\n",
            "Epoch 98/150\n",
            "\u001b[1m20559/20559\u001b[0m \u001b[32m━━━━━━━━━━━━━━━━━━━━\u001b[0m\u001b[37m\u001b[0m \u001b[1m39s\u001b[0m 2ms/step - accuracy: 0.4118 - loss: 1.2407 - val_accuracy: 0.4062 - val_loss: 1.2470 - learning_rate: 1.0000e-06\n",
            "Epoch 99/150\n",
            "\u001b[1m20559/20559\u001b[0m \u001b[32m━━━━━━━━━━━━━━━━━━━━\u001b[0m\u001b[37m\u001b[0m \u001b[1m38s\u001b[0m 2ms/step - accuracy: 0.4115 - loss: 1.2421 - val_accuracy: 0.4061 - val_loss: 1.2470 - learning_rate: 1.0000e-06\n",
            "Epoch 100/150\n",
            "\u001b[1m20559/20559\u001b[0m \u001b[32m━━━━━━━━━━━━━━━━━━━━\u001b[0m\u001b[37m\u001b[0m \u001b[1m39s\u001b[0m 2ms/step - accuracy: 0.4121 - loss: 1.2412 - val_accuracy: 0.4061 - val_loss: 1.2470 - learning_rate: 1.0000e-06\n",
            "Epoch 101/150\n",
            "\u001b[1m20559/20559\u001b[0m \u001b[32m━━━━━━━━━━━━━━━━━━━━\u001b[0m\u001b[37m\u001b[0m \u001b[1m38s\u001b[0m 2ms/step - accuracy: 0.4112 - loss: 1.2417 - val_accuracy: 0.4063 - val_loss: 1.2471 - learning_rate: 1.0000e-06\n",
            "Epoch 102/150\n",
            "\u001b[1m20559/20559\u001b[0m \u001b[32m━━━━━━━━━━━━━━━━━━━━\u001b[0m\u001b[37m\u001b[0m \u001b[1m39s\u001b[0m 2ms/step - accuracy: 0.4116 - loss: 1.2415 - val_accuracy: 0.4062 - val_loss: 1.2471 - learning_rate: 1.0000e-06\n",
            "Epoch 103/150\n",
            "\u001b[1m20559/20559\u001b[0m \u001b[32m━━━━━━━━━━━━━━━━━━━━\u001b[0m\u001b[37m\u001b[0m \u001b[1m38s\u001b[0m 2ms/step - accuracy: 0.4106 - loss: 1.2428 - val_accuracy: 0.4064 - val_loss: 1.2470 - learning_rate: 1.0000e-06\n",
            "Epoch 104/150\n",
            "\u001b[1m20559/20559\u001b[0m \u001b[32m━━━━━━━━━━━━━━━━━━━━\u001b[0m\u001b[37m\u001b[0m \u001b[1m39s\u001b[0m 2ms/step - accuracy: 0.4112 - loss: 1.2421 - val_accuracy: 0.4064 - val_loss: 1.2470 - learning_rate: 1.0000e-06\n",
            "Epoch 105/150\n",
            "\u001b[1m20559/20559\u001b[0m \u001b[32m━━━━━━━━━━━━━━━━━━━━\u001b[0m\u001b[37m\u001b[0m \u001b[1m39s\u001b[0m 2ms/step - accuracy: 0.4109 - loss: 1.2430 - val_accuracy: 0.4063 - val_loss: 1.2470 - learning_rate: 1.0000e-06\n",
            "Epoch 106/150\n",
            "\u001b[1m20559/20559\u001b[0m \u001b[32m━━━━━━━━━━━━━━━━━━━━\u001b[0m\u001b[37m\u001b[0m \u001b[1m39s\u001b[0m 2ms/step - accuracy: 0.4103 - loss: 1.2427 - val_accuracy: 0.4064 - val_loss: 1.2470 - learning_rate: 1.0000e-06\n",
            "Epoch 107/150\n",
            "\u001b[1m20559/20559\u001b[0m \u001b[32m━━━━━━━━━━━━━━━━━━━━\u001b[0m\u001b[37m\u001b[0m \u001b[1m38s\u001b[0m 2ms/step - accuracy: 0.4115 - loss: 1.2423 - val_accuracy: 0.4063 - val_loss: 1.2470 - learning_rate: 1.0000e-06\n",
            "Epoch 108/150\n",
            "\u001b[1m20559/20559\u001b[0m \u001b[32m━━━━━━━━━━━━━━━━━━━━\u001b[0m\u001b[37m\u001b[0m \u001b[1m39s\u001b[0m 2ms/step - accuracy: 0.4114 - loss: 1.2425 - val_accuracy: 0.4064 - val_loss: 1.2470 - learning_rate: 1.0000e-06\n",
            "Epoch 109/150\n",
            "\u001b[1m20559/20559\u001b[0m \u001b[32m━━━━━━━━━━━━━━━━━━━━\u001b[0m\u001b[37m\u001b[0m \u001b[1m38s\u001b[0m 2ms/step - accuracy: 0.4113 - loss: 1.2424 - val_accuracy: 0.4064 - val_loss: 1.2471 - learning_rate: 1.0000e-06\n",
            "Epoch 110/150\n",
            "\u001b[1m20559/20559\u001b[0m \u001b[32m━━━━━━━━━━━━━━━━━━━━\u001b[0m\u001b[37m\u001b[0m \u001b[1m38s\u001b[0m 2ms/step - accuracy: 0.4117 - loss: 1.2422 - val_accuracy: 0.4062 - val_loss: 1.2470 - learning_rate: 1.0000e-06\n",
            "Epoch 111/150\n",
            "\u001b[1m20559/20559\u001b[0m \u001b[32m━━━━━━━━━━━━━━━━━━━━\u001b[0m\u001b[37m\u001b[0m \u001b[1m38s\u001b[0m 2ms/step - accuracy: 0.4122 - loss: 1.2418 - val_accuracy: 0.4063 - val_loss: 1.2470 - learning_rate: 1.0000e-06\n",
            "Epoch 112/150\n",
            "\u001b[1m20559/20559\u001b[0m \u001b[32m━━━━━━━━━━━━━━━━━━━━\u001b[0m\u001b[37m\u001b[0m \u001b[1m39s\u001b[0m 2ms/step - accuracy: 0.4112 - loss: 1.2420 - val_accuracy: 0.4062 - val_loss: 1.2470 - learning_rate: 1.0000e-06\n",
            "Epoch 113/150\n",
            "\u001b[1m20559/20559\u001b[0m \u001b[32m━━━━━━━━━━━━━━━━━━━━\u001b[0m\u001b[37m\u001b[0m \u001b[1m39s\u001b[0m 2ms/step - accuracy: 0.4103 - loss: 1.2420 - val_accuracy: 0.4063 - val_loss: 1.2471 - learning_rate: 1.0000e-06\n",
            "Epoch 114/150\n",
            "\u001b[1m20559/20559\u001b[0m \u001b[32m━━━━━━━━━━━━━━━━━━━━\u001b[0m\u001b[37m\u001b[0m \u001b[1m38s\u001b[0m 2ms/step - accuracy: 0.4095 - loss: 1.2432 - val_accuracy: 0.4063 - val_loss: 1.2470 - learning_rate: 1.0000e-06\n",
            "Epoch 115/150\n",
            "\u001b[1m20559/20559\u001b[0m \u001b[32m━━━━━━━━━━━━━━━━━━━━\u001b[0m\u001b[37m\u001b[0m \u001b[1m39s\u001b[0m 2ms/step - accuracy: 0.4108 - loss: 1.2421 - val_accuracy: 0.4063 - val_loss: 1.2470 - learning_rate: 1.0000e-06\n",
            "Epoch 116/150\n",
            "\u001b[1m20559/20559\u001b[0m \u001b[32m━━━━━━━━━━━━━━━━━━━━\u001b[0m\u001b[37m\u001b[0m \u001b[1m39s\u001b[0m 2ms/step - accuracy: 0.4105 - loss: 1.2423 - val_accuracy: 0.4063 - val_loss: 1.2470 - learning_rate: 1.0000e-06\n",
            "Epoch 117/150\n",
            "\u001b[1m20559/20559\u001b[0m \u001b[32m━━━━━━━━━━━━━━━━━━━━\u001b[0m\u001b[37m\u001b[0m \u001b[1m39s\u001b[0m 2ms/step - accuracy: 0.4107 - loss: 1.2433 - val_accuracy: 0.4061 - val_loss: 1.2470 - learning_rate: 1.0000e-06\n",
            "Epoch 118/150\n",
            "\u001b[1m20559/20559\u001b[0m \u001b[32m━━━━━━━━━━━━━━━━━━━━\u001b[0m\u001b[37m\u001b[0m \u001b[1m38s\u001b[0m 2ms/step - accuracy: 0.4110 - loss: 1.2430 - val_accuracy: 0.4061 - val_loss: 1.2470 - learning_rate: 1.0000e-06\n",
            "Epoch 119/150\n",
            "\u001b[1m20559/20559\u001b[0m \u001b[32m━━━━━━━━━━━━━━━━━━━━\u001b[0m\u001b[37m\u001b[0m \u001b[1m39s\u001b[0m 2ms/step - accuracy: 0.4111 - loss: 1.2424 - val_accuracy: 0.4062 - val_loss: 1.2470 - learning_rate: 1.0000e-06\n",
            "Epoch 120/150\n",
            "\u001b[1m20559/20559\u001b[0m \u001b[32m━━━━━━━━━━━━━━━━━━━━\u001b[0m\u001b[37m\u001b[0m \u001b[1m39s\u001b[0m 2ms/step - accuracy: 0.4109 - loss: 1.2422 - val_accuracy: 0.4063 - val_loss: 1.2470 - learning_rate: 1.0000e-06\n",
            "Epoch 121/150\n",
            "\u001b[1m20559/20559\u001b[0m \u001b[32m━━━━━━━━━━━━━━━━━━━━\u001b[0m\u001b[37m\u001b[0m \u001b[1m38s\u001b[0m 2ms/step - accuracy: 0.4100 - loss: 1.2428 - val_accuracy: 0.4062 - val_loss: 1.2470 - learning_rate: 1.0000e-06\n",
            "Epoch 122/150\n",
            "\u001b[1m20559/20559\u001b[0m \u001b[32m━━━━━━━━━━━━━━━━━━━━\u001b[0m\u001b[37m\u001b[0m \u001b[1m39s\u001b[0m 2ms/step - accuracy: 0.4114 - loss: 1.2433 - val_accuracy: 0.4062 - val_loss: 1.2470 - learning_rate: 1.0000e-06\n",
            "Epoch 123/150\n",
            "\u001b[1m20559/20559\u001b[0m \u001b[32m━━━━━━━━━━━━━━━━━━━━\u001b[0m\u001b[37m\u001b[0m \u001b[1m38s\u001b[0m 2ms/step - accuracy: 0.4108 - loss: 1.2417 - val_accuracy: 0.4061 - val_loss: 1.2470 - learning_rate: 1.0000e-06\n",
            "Epoch 124/150\n",
            "\u001b[1m20559/20559\u001b[0m \u001b[32m━━━━━━━━━━━━━━━━━━━━\u001b[0m\u001b[37m\u001b[0m \u001b[1m39s\u001b[0m 2ms/step - accuracy: 0.4114 - loss: 1.2422 - val_accuracy: 0.4062 - val_loss: 1.2470 - learning_rate: 1.0000e-06\n",
            "Epoch 125/150\n",
            "\u001b[1m20559/20559\u001b[0m \u001b[32m━━━━━━━━━━━━━━━━━━━━\u001b[0m\u001b[37m\u001b[0m \u001b[1m40s\u001b[0m 2ms/step - accuracy: 0.4104 - loss: 1.2422 - val_accuracy: 0.4063 - val_loss: 1.2471 - learning_rate: 1.0000e-06\n",
            "Epoch 126/150\n",
            "\u001b[1m20559/20559\u001b[0m \u001b[32m━━━━━━━━━━━━━━━━━━━━\u001b[0m\u001b[37m\u001b[0m \u001b[1m38s\u001b[0m 2ms/step - accuracy: 0.4109 - loss: 1.2419 - val_accuracy: 0.4062 - val_loss: 1.2470 - learning_rate: 1.0000e-06\n",
            "Epoch 127/150\n",
            "\u001b[1m20559/20559\u001b[0m \u001b[32m━━━━━━━━━━━━━━━━━━━━\u001b[0m\u001b[37m\u001b[0m \u001b[1m39s\u001b[0m 2ms/step - accuracy: 0.4122 - loss: 1.2409 - val_accuracy: 0.4061 - val_loss: 1.2470 - learning_rate: 1.0000e-06\n",
            "Epoch 128/150\n",
            "\u001b[1m20559/20559\u001b[0m \u001b[32m━━━━━━━━━━━━━━━━━━━━\u001b[0m\u001b[37m\u001b[0m \u001b[1m39s\u001b[0m 2ms/step - accuracy: 0.4111 - loss: 1.2417 - val_accuracy: 0.4059 - val_loss: 1.2471 - learning_rate: 1.0000e-06\n",
            "Epoch 129/150\n",
            "\u001b[1m20559/20559\u001b[0m \u001b[32m━━━━━━━━━━━━━━━━━━━━\u001b[0m\u001b[37m\u001b[0m \u001b[1m38s\u001b[0m 2ms/step - accuracy: 0.4118 - loss: 1.2425 - val_accuracy: 0.4060 - val_loss: 1.2470 - learning_rate: 1.0000e-06\n",
            "Epoch 130/150\n",
            "\u001b[1m20559/20559\u001b[0m \u001b[32m━━━━━━━━━━━━━━━━━━━━\u001b[0m\u001b[37m\u001b[0m \u001b[1m40s\u001b[0m 2ms/step - accuracy: 0.4110 - loss: 1.2419 - val_accuracy: 0.4059 - val_loss: 1.2471 - learning_rate: 1.0000e-06\n",
            "Epoch 131/150\n",
            "\u001b[1m20559/20559\u001b[0m \u001b[32m━━━━━━━━━━━━━━━━━━━━\u001b[0m\u001b[37m\u001b[0m \u001b[1m39s\u001b[0m 2ms/step - accuracy: 0.4122 - loss: 1.2419 - val_accuracy: 0.4060 - val_loss: 1.2470 - learning_rate: 1.0000e-06\n",
            "Epoch 132/150\n",
            "\u001b[1m20559/20559\u001b[0m \u001b[32m━━━━━━━━━━━━━━━━━━━━\u001b[0m\u001b[37m\u001b[0m \u001b[1m39s\u001b[0m 2ms/step - accuracy: 0.4120 - loss: 1.2423 - val_accuracy: 0.4062 - val_loss: 1.2470 - learning_rate: 1.0000e-06\n",
            "Epoch 133/150\n",
            "\u001b[1m20559/20559\u001b[0m \u001b[32m━━━━━━━━━━━━━━━━━━━━\u001b[0m\u001b[37m\u001b[0m \u001b[1m39s\u001b[0m 2ms/step - accuracy: 0.4112 - loss: 1.2415 - val_accuracy: 0.4062 - val_loss: 1.2470 - learning_rate: 1.0000e-06\n",
            "Epoch 134/150\n",
            "\u001b[1m20559/20559\u001b[0m \u001b[32m━━━━━━━━━━━━━━━━━━━━\u001b[0m\u001b[37m\u001b[0m \u001b[1m39s\u001b[0m 2ms/step - accuracy: 0.4104 - loss: 1.2426 - val_accuracy: 0.4062 - val_loss: 1.2470 - learning_rate: 1.0000e-06\n",
            "Epoch 135/150\n",
            "\u001b[1m20559/20559\u001b[0m \u001b[32m━━━━━━━━━━━━━━━━━━━━\u001b[0m\u001b[37m\u001b[0m \u001b[1m38s\u001b[0m 2ms/step - accuracy: 0.4119 - loss: 1.2417 - val_accuracy: 0.4061 - val_loss: 1.2471 - learning_rate: 1.0000e-06\n",
            "Epoch 136/150\n",
            "\u001b[1m20559/20559\u001b[0m \u001b[32m━━━━━━━━━━━━━━━━━━━━\u001b[0m\u001b[37m\u001b[0m \u001b[1m38s\u001b[0m 2ms/step - accuracy: 0.4114 - loss: 1.2422 - val_accuracy: 0.4060 - val_loss: 1.2471 - learning_rate: 1.0000e-06\n",
            "Epoch 137/150\n",
            "\u001b[1m20559/20559\u001b[0m \u001b[32m━━━━━━━━━━━━━━━━━━━━\u001b[0m\u001b[37m\u001b[0m \u001b[1m39s\u001b[0m 2ms/step - accuracy: 0.4110 - loss: 1.2424 - val_accuracy: 0.4061 - val_loss: 1.2470 - learning_rate: 1.0000e-06\n",
            "Epoch 138/150\n",
            "\u001b[1m20559/20559\u001b[0m \u001b[32m━━━━━━━━━━━━━━━━━━━━\u001b[0m\u001b[37m\u001b[0m \u001b[1m40s\u001b[0m 2ms/step - accuracy: 0.4120 - loss: 1.2422 - val_accuracy: 0.4061 - val_loss: 1.2470 - learning_rate: 1.0000e-06\n",
            "Epoch 139/150\n",
            "\u001b[1m20559/20559\u001b[0m \u001b[32m━━━━━━━━━━━━━━━━━━━━\u001b[0m\u001b[37m\u001b[0m \u001b[1m39s\u001b[0m 2ms/step - accuracy: 0.4121 - loss: 1.2413 - val_accuracy: 0.4062 - val_loss: 1.2470 - learning_rate: 1.0000e-06\n",
            "Epoch 140/150\n",
            "\u001b[1m20559/20559\u001b[0m \u001b[32m━━━━━━━━━━━━━━━━━━━━\u001b[0m\u001b[37m\u001b[0m \u001b[1m40s\u001b[0m 2ms/step - accuracy: 0.4114 - loss: 1.2422 - val_accuracy: 0.4062 - val_loss: 1.2470 - learning_rate: 1.0000e-06\n",
            "Epoch 141/150\n",
            "\u001b[1m20559/20559\u001b[0m \u001b[32m━━━━━━━━━━━━━━━━━━━━\u001b[0m\u001b[37m\u001b[0m \u001b[1m39s\u001b[0m 2ms/step - accuracy: 0.4101 - loss: 1.2427 - val_accuracy: 0.4062 - val_loss: 1.2470 - learning_rate: 1.0000e-06\n",
            "Epoch 142/150\n",
            "\u001b[1m20559/20559\u001b[0m \u001b[32m━━━━━━━━━━━━━━━━━━━━\u001b[0m\u001b[37m\u001b[0m \u001b[1m40s\u001b[0m 2ms/step - accuracy: 0.4114 - loss: 1.2419 - val_accuracy: 0.4061 - val_loss: 1.2470 - learning_rate: 1.0000e-06\n",
            "Epoch 143/150\n",
            "\u001b[1m20559/20559\u001b[0m \u001b[32m━━━━━━━━━━━━━━━━━━━━\u001b[0m\u001b[37m\u001b[0m \u001b[1m39s\u001b[0m 2ms/step - accuracy: 0.4105 - loss: 1.2421 - val_accuracy: 0.4062 - val_loss: 1.2470 - learning_rate: 1.0000e-06\n",
            "Epoch 144/150\n",
            "\u001b[1m20559/20559\u001b[0m \u001b[32m━━━━━━━━━━━━━━━━━━━━\u001b[0m\u001b[37m\u001b[0m \u001b[1m39s\u001b[0m 2ms/step - accuracy: 0.4119 - loss: 1.2426 - val_accuracy: 0.4061 - val_loss: 1.2470 - learning_rate: 1.0000e-06\n",
            "Epoch 145/150\n",
            "\u001b[1m20559/20559\u001b[0m \u001b[32m━━━━━━━━━━━━━━━━━━━━\u001b[0m\u001b[37m\u001b[0m \u001b[1m39s\u001b[0m 2ms/step - accuracy: 0.4117 - loss: 1.2421 - val_accuracy: 0.4063 - val_loss: 1.2470 - learning_rate: 1.0000e-06\n",
            "Epoch 146/150\n",
            "\u001b[1m20559/20559\u001b[0m \u001b[32m━━━━━━━━━━━━━━━━━━━━\u001b[0m\u001b[37m\u001b[0m \u001b[1m39s\u001b[0m 2ms/step - accuracy: 0.4112 - loss: 1.2432 - val_accuracy: 0.4062 - val_loss: 1.2470 - learning_rate: 1.0000e-06\n",
            "Epoch 147/150\n",
            "\u001b[1m20559/20559\u001b[0m \u001b[32m━━━━━━━━━━━━━━━━━━━━\u001b[0m\u001b[37m\u001b[0m \u001b[1m38s\u001b[0m 2ms/step - accuracy: 0.4109 - loss: 1.2426 - val_accuracy: 0.4062 - val_loss: 1.2470 - learning_rate: 1.0000e-06\n",
            "Epoch 148/150\n",
            "\u001b[1m20559/20559\u001b[0m \u001b[32m━━━━━━━━━━━━━━━━━━━━\u001b[0m\u001b[37m\u001b[0m \u001b[1m38s\u001b[0m 2ms/step - accuracy: 0.4112 - loss: 1.2421 - val_accuracy: 0.4061 - val_loss: 1.2471 - learning_rate: 1.0000e-06\n",
            "Epoch 149/150\n",
            "\u001b[1m20559/20559\u001b[0m \u001b[32m━━━━━━━━━━━━━━━━━━━━\u001b[0m\u001b[37m\u001b[0m \u001b[1m39s\u001b[0m 2ms/step - accuracy: 0.4117 - loss: 1.2421 - val_accuracy: 0.4063 - val_loss: 1.2470 - learning_rate: 1.0000e-06\n",
            "Epoch 150/150\n",
            "\u001b[1m20559/20559\u001b[0m \u001b[32m━━━━━━━━━━━━━━━━━━━━\u001b[0m\u001b[37m\u001b[0m \u001b[1m39s\u001b[0m 2ms/step - accuracy: 0.4111 - loss: 1.2425 - val_accuracy: 0.4062 - val_loss: 1.2470 - learning_rate: 1.0000e-06\n"
          ]
        }
      ]
    },
    {
      "cell_type": "markdown",
      "source": [
        "Se realiza la inferencia y se crea el archivo para realizar al entrega"
      ],
      "metadata": {
        "id": "-xG7xCfCUqQV"
      }
    },
    {
      "cell_type": "code",
      "metadata": {
        "colab": {
          "base_uri": "https://localhost:8080/"
        },
        "id": "e662ee93",
        "outputId": "a6dded50-a869-46a5-9cff-61c362b7a414"
      },
      "source": [
        "ids, test_data = preprocess_data(test_dataset, train=False)\n",
        "y_pred_proba = model.predict(test_data)\n",
        "y_pred = np.argmax(y_pred_proba, axis=1)\n",
        "y_pred = target_encoder.inverse_transform(y_pred.reshape(-1, 1))\n",
        "y_pred = pd.DataFrame(y_pred, columns=['RENDIMIENTO_GLOBAL'])\n",
        "submit = pd.concat([ids, y_pred], axis=1)\n",
        "submit.to_csv('submission.csv', index=False)"
      ],
      "execution_count": 25,
      "outputs": [
        {
          "output_type": "stream",
          "name": "stdout",
          "text": [
            "\u001b[1m9275/9275\u001b[0m \u001b[32m━━━━━━━━━━━━━━━━━━━━\u001b[0m\u001b[37m\u001b[0m \u001b[1m7s\u001b[0m 800us/step\n"
          ]
        }
      ]
    }
  ]
}