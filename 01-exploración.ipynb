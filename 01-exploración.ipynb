{
  "nbformat": 4,
  "nbformat_minor": 0,
  "metadata": {
    "colab": {
      "provenance": []
    },
    "kernelspec": {
      "name": "python3",
      "display_name": "Python 3"
    },
    "language_info": {
      "name": "python"
    }
  },
  "cells": [
    {
      "cell_type": "markdown",
      "source": [
        "Se instala Kaggle"
      ],
      "metadata": {
        "id": "ikb-689VVGKd"
      }
    },
    {
      "cell_type": "code",
      "execution_count": 1,
      "metadata": {
        "colab": {
          "base_uri": "https://localhost:8080/"
        },
        "id": "BllusWpqA8Dq",
        "outputId": "1d085890-98a8-497e-9085-382064028562"
      },
      "outputs": [
        {
          "output_type": "stream",
          "name": "stdout",
          "text": [
            "Collecting kaggle==1.5.12\n",
            "  Downloading kaggle-1.5.12.tar.gz (58 kB)\n",
            "\u001b[?25l     \u001b[90m━━━━━━━━━━━━━━━━━━━━━━━━━━━━━━━━━━━━━━━━\u001b[0m \u001b[32m0.0/59.0 kB\u001b[0m \u001b[31m?\u001b[0m eta \u001b[36m-:--:--\u001b[0m\r\u001b[2K     \u001b[90m━━━━━━━━━━━━━━━━━━━━━━━━━━━━━━━━━━━━━━━━\u001b[0m \u001b[32m59.0/59.0 kB\u001b[0m \u001b[31m2.0 MB/s\u001b[0m eta \u001b[36m0:00:00\u001b[0m\n",
            "\u001b[?25h  Preparing metadata (setup.py) ... \u001b[?25l\u001b[?25hdone\n",
            "Requirement already satisfied: six>=1.10 in /usr/local/lib/python3.11/dist-packages (from kaggle==1.5.12) (1.17.0)\n",
            "Requirement already satisfied: certifi in /usr/local/lib/python3.11/dist-packages (from kaggle==1.5.12) (2025.1.31)\n",
            "Requirement already satisfied: python-dateutil in /usr/local/lib/python3.11/dist-packages (from kaggle==1.5.12) (2.8.2)\n",
            "Requirement already satisfied: requests in /usr/local/lib/python3.11/dist-packages (from kaggle==1.5.12) (2.32.3)\n",
            "Requirement already satisfied: tqdm in /usr/local/lib/python3.11/dist-packages (from kaggle==1.5.12) (4.67.1)\n",
            "Requirement already satisfied: python-slugify in /usr/local/lib/python3.11/dist-packages (from kaggle==1.5.12) (8.0.4)\n",
            "Requirement already satisfied: urllib3 in /usr/local/lib/python3.11/dist-packages (from kaggle==1.5.12) (2.3.0)\n",
            "Requirement already satisfied: text-unidecode>=1.3 in /usr/local/lib/python3.11/dist-packages (from python-slugify->kaggle==1.5.12) (1.3)\n",
            "Requirement already satisfied: charset-normalizer<4,>=2 in /usr/local/lib/python3.11/dist-packages (from requests->kaggle==1.5.12) (3.4.1)\n",
            "Requirement already satisfied: idna<4,>=2.5 in /usr/local/lib/python3.11/dist-packages (from requests->kaggle==1.5.12) (3.10)\n",
            "Building wheels for collected packages: kaggle\n",
            "  Building wheel for kaggle (setup.py) ... \u001b[?25l\u001b[?25hdone\n",
            "  Created wheel for kaggle: filename=kaggle-1.5.12-py3-none-any.whl size=73026 sha256=fae6c6ec9d4f09a7b9e61e8321426b7309993f0a2ae769e08322fb9224435c0f\n",
            "  Stored in directory: /root/.cache/pip/wheels/2e/27/39/f44e52756a6407b444143f233abe9fda0e18a23e8b20e0cd1c\n",
            "Successfully built kaggle\n",
            "Installing collected packages: kaggle\n",
            "  Attempting uninstall: kaggle\n",
            "    Found existing installation: kaggle 1.7.4.2\n",
            "    Uninstalling kaggle-1.7.4.2:\n",
            "      Successfully uninstalled kaggle-1.7.4.2\n",
            "Successfully installed kaggle-1.5.12\n"
          ]
        }
      ],
      "source": [
        "!pip install kaggle==1.5.12"
      ]
    },
    {
      "cell_type": "markdown",
      "source": [
        "Es necesario ubicar el archivo de autenticación de Kaggle en la dirección luego de ser cargados a la carpeta de archivos de Colab."
      ],
      "metadata": {
        "id": "Eu4eyikjVOSq"
      }
    },
    {
      "cell_type": "code",
      "source": [
        "!mkdir -p ~/.kaggle\n",
        "!cp kaggle.json ~/.kaggle/\n",
        "!chmod 600 ~/.kaggle/kaggle.json"
      ],
      "metadata": {
        "id": "v39MESVdBLUR"
      },
      "execution_count": 2,
      "outputs": []
    },
    {
      "cell_type": "markdown",
      "source": [
        "Se descarga el dataset"
      ],
      "metadata": {
        "id": "0ui2iTyJVorQ"
      }
    },
    {
      "cell_type": "code",
      "source": [
        "!kaggle competitions download -c udea-ai-4-eng-20251-pruebas-saber-pro-colombia"
      ],
      "metadata": {
        "colab": {
          "base_uri": "https://localhost:8080/"
        },
        "id": "-KYU3vBlDs-W",
        "outputId": "463b744c-6b0e-4fd0-dbf0-ec5f98661b0d"
      },
      "execution_count": 3,
      "outputs": [
        {
          "output_type": "stream",
          "name": "stdout",
          "text": [
            "Downloading udea-ai-4-eng-20251-pruebas-saber-pro-colombia.zip to /content\n",
            " 80% 24.0M/29.9M [00:00<00:00, 108MB/s]\n",
            "100% 29.9M/29.9M [00:00<00:00, 106MB/s]\n"
          ]
        }
      ]
    },
    {
      "cell_type": "markdown",
      "source": [
        "Se descomprime el dataset"
      ],
      "metadata": {
        "id": "trcLm_GOVtVL"
      }
    },
    {
      "cell_type": "code",
      "source": [
        "!unzip /content/udea-ai-4-eng-20251-pruebas-saber-pro-colombia.zip"
      ],
      "metadata": {
        "colab": {
          "base_uri": "https://localhost:8080/"
        },
        "id": "_HNuNo_OEDR1",
        "outputId": "a25aa5fe-889f-4f99-9f3c-a1d4f169cbd7"
      },
      "execution_count": 4,
      "outputs": [
        {
          "output_type": "stream",
          "name": "stdout",
          "text": [
            "Archive:  /content/udea-ai-4-eng-20251-pruebas-saber-pro-colombia.zip\n",
            "  inflating: submission_example.csv  \n",
            "  inflating: test.csv                \n",
            "  inflating: train.csv               \n"
          ]
        }
      ]
    },
    {
      "cell_type": "markdown",
      "source": [
        "Importación de librerías"
      ],
      "metadata": {
        "id": "T8M25XmuVwb-"
      }
    },
    {
      "cell_type": "code",
      "source": [
        "import pandas as pd\n",
        "import numpy as np\n",
        "import matplotlib.pyplot as plt\n",
        "import seaborn as sns\n",
        "import plotly.express as px"
      ],
      "metadata": {
        "id": "5QKYqtjQGkgR"
      },
      "execution_count": 17,
      "outputs": []
    },
    {
      "cell_type": "markdown",
      "source": [
        "Se carga el archivo de training para realizar un análisis exploratorio de datos. Debido a que el archivo es de extensión .csv se utiliza la rutina de pandas **read_csv**"
      ],
      "metadata": {
        "id": "iQIKP_7SVzU8"
      }
    },
    {
      "cell_type": "code",
      "source": [
        "train_dataset = pd.read_csv('/content/train.csv')"
      ],
      "metadata": {
        "id": "haULw55FGbGQ"
      },
      "execution_count": 6,
      "outputs": []
    },
    {
      "cell_type": "markdown",
      "source": [
        "Se verifica el número total de **características** (columnas) que tiene el archivo y el número total de **registros**."
      ],
      "metadata": {
        "id": "P9G5Qna2WRor"
      }
    },
    {
      "cell_type": "code",
      "source": [
        "print(f'Número total de características: {train_dataset.shape[1]}')\n",
        "print(f'Número total de muestras: {train_dataset.shape[0]}')"
      ],
      "metadata": {
        "colab": {
          "base_uri": "https://localhost:8080/"
        },
        "id": "cxmt7sx8HTxj",
        "outputId": "e0cab77b-abb9-4e7c-e9bf-7e1d86d4cfc6"
      },
      "execution_count": 7,
      "outputs": [
        {
          "output_type": "stream",
          "name": "stdout",
          "text": [
            "Número total de características: 21\n",
            "Número total de muestras: 692500\n"
          ]
        }
      ]
    },
    {
      "cell_type": "markdown",
      "source": [
        "Se verifica cuantas columnas contienen valores faltantes para luego realizar un análisis que permita tomar decisiones de reemplazar o eliminar esos valores faltantes."
      ],
      "metadata": {
        "id": "8JdRP_K7W9qb"
      }
    },
    {
      "cell_type": "code",
      "source": [
        "num_columns_with_missing_values = train_dataset.isnull().sum()[train_dataset.isnull().sum() > 0].count()\n",
        "print(f\"Columnas con valores faltantes: {num_columns_with_missing_values}\")"
      ],
      "metadata": {
        "colab": {
          "base_uri": "https://localhost:8080/"
        },
        "id": "u8gQO4xjGtSI",
        "outputId": "b2ea0a7b-867e-4305-ed33-7fdac824089b"
      },
      "execution_count": 8,
      "outputs": [
        {
          "output_type": "stream",
          "name": "stdout",
          "text": [
            "Columnas con valores faltantes: 11\n"
          ]
        }
      ]
    },
    {
      "cell_type": "code",
      "source": [
        "train_dataset.isnull().sum()[train_dataset.isnull().sum() > 0].sort_values(ascending=False)"
      ],
      "metadata": {
        "colab": {
          "base_uri": "https://localhost:8080/",
          "height": 429
        },
        "id": "GHORoSMSG50W",
        "outputId": "03254f9b-41fa-4145-c2a0-d9223186a647"
      },
      "execution_count": 9,
      "outputs": [
        {
          "output_type": "execute_result",
          "data": {
            "text/plain": [
              "FAMI_TIENEAUTOMOVIL               43623\n",
              "FAMI_TIENELAVADORA                39773\n",
              "FAMI_TIENECOMPUTADOR              38103\n",
              "FAMI_ESTRATOVIVIENDA              32137\n",
              "ESTU_HORASSEMANATRABAJA           30857\n",
              "FAMI_TIENEINTERNET.1              26629\n",
              "FAMI_TIENEINTERNET                26629\n",
              "FAMI_EDUCACIONMADRE               23664\n",
              "FAMI_EDUCACIONPADRE               23178\n",
              "ESTU_PAGOMATRICULAPROPIO           6498\n",
              "ESTU_VALORMATRICULAUNIVERSIDAD     6287\n",
              "dtype: int64"
            ],
            "text/html": [
              "<div>\n",
              "<style scoped>\n",
              "    .dataframe tbody tr th:only-of-type {\n",
              "        vertical-align: middle;\n",
              "    }\n",
              "\n",
              "    .dataframe tbody tr th {\n",
              "        vertical-align: top;\n",
              "    }\n",
              "\n",
              "    .dataframe thead th {\n",
              "        text-align: right;\n",
              "    }\n",
              "</style>\n",
              "<table border=\"1\" class=\"dataframe\">\n",
              "  <thead>\n",
              "    <tr style=\"text-align: right;\">\n",
              "      <th></th>\n",
              "      <th>0</th>\n",
              "    </tr>\n",
              "  </thead>\n",
              "  <tbody>\n",
              "    <tr>\n",
              "      <th>FAMI_TIENEAUTOMOVIL</th>\n",
              "      <td>43623</td>\n",
              "    </tr>\n",
              "    <tr>\n",
              "      <th>FAMI_TIENELAVADORA</th>\n",
              "      <td>39773</td>\n",
              "    </tr>\n",
              "    <tr>\n",
              "      <th>FAMI_TIENECOMPUTADOR</th>\n",
              "      <td>38103</td>\n",
              "    </tr>\n",
              "    <tr>\n",
              "      <th>FAMI_ESTRATOVIVIENDA</th>\n",
              "      <td>32137</td>\n",
              "    </tr>\n",
              "    <tr>\n",
              "      <th>ESTU_HORASSEMANATRABAJA</th>\n",
              "      <td>30857</td>\n",
              "    </tr>\n",
              "    <tr>\n",
              "      <th>FAMI_TIENEINTERNET.1</th>\n",
              "      <td>26629</td>\n",
              "    </tr>\n",
              "    <tr>\n",
              "      <th>FAMI_TIENEINTERNET</th>\n",
              "      <td>26629</td>\n",
              "    </tr>\n",
              "    <tr>\n",
              "      <th>FAMI_EDUCACIONMADRE</th>\n",
              "      <td>23664</td>\n",
              "    </tr>\n",
              "    <tr>\n",
              "      <th>FAMI_EDUCACIONPADRE</th>\n",
              "      <td>23178</td>\n",
              "    </tr>\n",
              "    <tr>\n",
              "      <th>ESTU_PAGOMATRICULAPROPIO</th>\n",
              "      <td>6498</td>\n",
              "    </tr>\n",
              "    <tr>\n",
              "      <th>ESTU_VALORMATRICULAUNIVERSIDAD</th>\n",
              "      <td>6287</td>\n",
              "    </tr>\n",
              "  </tbody>\n",
              "</table>\n",
              "</div><br><label><b>dtype:</b> int64</label>"
            ]
          },
          "metadata": {},
          "execution_count": 9
        }
      ]
    },
    {
      "cell_type": "markdown",
      "source": [
        "Se realiza un resumen de los **estadísticos descriptivos** tanto para las columnas númericas, como para las columnas categóricas.\n",
        "\n",
        "\n"
      ],
      "metadata": {
        "id": "qx2VpVgcXWaf"
      }
    },
    {
      "cell_type": "code",
      "source": [
        "train_dataset.describe().T"
      ],
      "metadata": {
        "colab": {
          "base_uri": "https://localhost:8080/",
          "height": 237
        },
        "id": "J6FR7ZgaH80X",
        "outputId": "df3498d0-68b9-402a-e68e-2d2964fd585d"
      },
      "execution_count": 10,
      "outputs": [
        {
          "output_type": "execute_result",
          "data": {
            "text/plain": [
              "            count           mean            std      min         25%  \\\n",
              "ID       692500.0  494606.130576  285585.209455      1.0  247324.750   \n",
              "PERIODO  692500.0   20198.366679      10.535037  20183.0   20195.000   \n",
              "coef_1   692500.0       0.268629       0.122130      0.0       0.203   \n",
              "coef_2   692500.0       0.259996       0.093480      0.0       0.212   \n",
              "coef_3   692500.0       0.262087       0.058862      0.0       0.254   \n",
              "coef_4   692500.0       0.262903       0.067944      0.0       0.255   \n",
              "\n",
              "                50%         75%         max  \n",
              "ID       494564.500  741782.500  989286.000  \n",
              "PERIODO   20195.000   20203.000   20213.000  \n",
              "coef_1        0.240       0.314       0.657  \n",
              "coef_2        0.271       0.309       0.487  \n",
              "coef_3        0.276       0.293       0.320  \n",
              "coef_4        0.285       0.303       0.332  "
            ],
            "text/html": [
              "\n",
              "  <div id=\"df-316fe93b-0466-4662-af17-5aca761b76eb\" class=\"colab-df-container\">\n",
              "    <div>\n",
              "<style scoped>\n",
              "    .dataframe tbody tr th:only-of-type {\n",
              "        vertical-align: middle;\n",
              "    }\n",
              "\n",
              "    .dataframe tbody tr th {\n",
              "        vertical-align: top;\n",
              "    }\n",
              "\n",
              "    .dataframe thead th {\n",
              "        text-align: right;\n",
              "    }\n",
              "</style>\n",
              "<table border=\"1\" class=\"dataframe\">\n",
              "  <thead>\n",
              "    <tr style=\"text-align: right;\">\n",
              "      <th></th>\n",
              "      <th>count</th>\n",
              "      <th>mean</th>\n",
              "      <th>std</th>\n",
              "      <th>min</th>\n",
              "      <th>25%</th>\n",
              "      <th>50%</th>\n",
              "      <th>75%</th>\n",
              "      <th>max</th>\n",
              "    </tr>\n",
              "  </thead>\n",
              "  <tbody>\n",
              "    <tr>\n",
              "      <th>ID</th>\n",
              "      <td>692500.0</td>\n",
              "      <td>494606.130576</td>\n",
              "      <td>285585.209455</td>\n",
              "      <td>1.0</td>\n",
              "      <td>247324.750</td>\n",
              "      <td>494564.500</td>\n",
              "      <td>741782.500</td>\n",
              "      <td>989286.000</td>\n",
              "    </tr>\n",
              "    <tr>\n",
              "      <th>PERIODO</th>\n",
              "      <td>692500.0</td>\n",
              "      <td>20198.366679</td>\n",
              "      <td>10.535037</td>\n",
              "      <td>20183.0</td>\n",
              "      <td>20195.000</td>\n",
              "      <td>20195.000</td>\n",
              "      <td>20203.000</td>\n",
              "      <td>20213.000</td>\n",
              "    </tr>\n",
              "    <tr>\n",
              "      <th>coef_1</th>\n",
              "      <td>692500.0</td>\n",
              "      <td>0.268629</td>\n",
              "      <td>0.122130</td>\n",
              "      <td>0.0</td>\n",
              "      <td>0.203</td>\n",
              "      <td>0.240</td>\n",
              "      <td>0.314</td>\n",
              "      <td>0.657</td>\n",
              "    </tr>\n",
              "    <tr>\n",
              "      <th>coef_2</th>\n",
              "      <td>692500.0</td>\n",
              "      <td>0.259996</td>\n",
              "      <td>0.093480</td>\n",
              "      <td>0.0</td>\n",
              "      <td>0.212</td>\n",
              "      <td>0.271</td>\n",
              "      <td>0.309</td>\n",
              "      <td>0.487</td>\n",
              "    </tr>\n",
              "    <tr>\n",
              "      <th>coef_3</th>\n",
              "      <td>692500.0</td>\n",
              "      <td>0.262087</td>\n",
              "      <td>0.058862</td>\n",
              "      <td>0.0</td>\n",
              "      <td>0.254</td>\n",
              "      <td>0.276</td>\n",
              "      <td>0.293</td>\n",
              "      <td>0.320</td>\n",
              "    </tr>\n",
              "    <tr>\n",
              "      <th>coef_4</th>\n",
              "      <td>692500.0</td>\n",
              "      <td>0.262903</td>\n",
              "      <td>0.067944</td>\n",
              "      <td>0.0</td>\n",
              "      <td>0.255</td>\n",
              "      <td>0.285</td>\n",
              "      <td>0.303</td>\n",
              "      <td>0.332</td>\n",
              "    </tr>\n",
              "  </tbody>\n",
              "</table>\n",
              "</div>\n",
              "    <div class=\"colab-df-buttons\">\n",
              "\n",
              "  <div class=\"colab-df-container\">\n",
              "    <button class=\"colab-df-convert\" onclick=\"convertToInteractive('df-316fe93b-0466-4662-af17-5aca761b76eb')\"\n",
              "            title=\"Convert this dataframe to an interactive table.\"\n",
              "            style=\"display:none;\">\n",
              "\n",
              "  <svg xmlns=\"http://www.w3.org/2000/svg\" height=\"24px\" viewBox=\"0 -960 960 960\">\n",
              "    <path d=\"M120-120v-720h720v720H120Zm60-500h600v-160H180v160Zm220 220h160v-160H400v160Zm0 220h160v-160H400v160ZM180-400h160v-160H180v160Zm440 0h160v-160H620v160ZM180-180h160v-160H180v160Zm440 0h160v-160H620v160Z\"/>\n",
              "  </svg>\n",
              "    </button>\n",
              "\n",
              "  <style>\n",
              "    .colab-df-container {\n",
              "      display:flex;\n",
              "      gap: 12px;\n",
              "    }\n",
              "\n",
              "    .colab-df-convert {\n",
              "      background-color: #E8F0FE;\n",
              "      border: none;\n",
              "      border-radius: 50%;\n",
              "      cursor: pointer;\n",
              "      display: none;\n",
              "      fill: #1967D2;\n",
              "      height: 32px;\n",
              "      padding: 0 0 0 0;\n",
              "      width: 32px;\n",
              "    }\n",
              "\n",
              "    .colab-df-convert:hover {\n",
              "      background-color: #E2EBFA;\n",
              "      box-shadow: 0px 1px 2px rgba(60, 64, 67, 0.3), 0px 1px 3px 1px rgba(60, 64, 67, 0.15);\n",
              "      fill: #174EA6;\n",
              "    }\n",
              "\n",
              "    .colab-df-buttons div {\n",
              "      margin-bottom: 4px;\n",
              "    }\n",
              "\n",
              "    [theme=dark] .colab-df-convert {\n",
              "      background-color: #3B4455;\n",
              "      fill: #D2E3FC;\n",
              "    }\n",
              "\n",
              "    [theme=dark] .colab-df-convert:hover {\n",
              "      background-color: #434B5C;\n",
              "      box-shadow: 0px 1px 3px 1px rgba(0, 0, 0, 0.15);\n",
              "      filter: drop-shadow(0px 1px 2px rgba(0, 0, 0, 0.3));\n",
              "      fill: #FFFFFF;\n",
              "    }\n",
              "  </style>\n",
              "\n",
              "    <script>\n",
              "      const buttonEl =\n",
              "        document.querySelector('#df-316fe93b-0466-4662-af17-5aca761b76eb button.colab-df-convert');\n",
              "      buttonEl.style.display =\n",
              "        google.colab.kernel.accessAllowed ? 'block' : 'none';\n",
              "\n",
              "      async function convertToInteractive(key) {\n",
              "        const element = document.querySelector('#df-316fe93b-0466-4662-af17-5aca761b76eb');\n",
              "        const dataTable =\n",
              "          await google.colab.kernel.invokeFunction('convertToInteractive',\n",
              "                                                    [key], {});\n",
              "        if (!dataTable) return;\n",
              "\n",
              "        const docLinkHtml = 'Like what you see? Visit the ' +\n",
              "          '<a target=\"_blank\" href=https://colab.research.google.com/notebooks/data_table.ipynb>data table notebook</a>'\n",
              "          + ' to learn more about interactive tables.';\n",
              "        element.innerHTML = '';\n",
              "        dataTable['output_type'] = 'display_data';\n",
              "        await google.colab.output.renderOutput(dataTable, element);\n",
              "        const docLink = document.createElement('div');\n",
              "        docLink.innerHTML = docLinkHtml;\n",
              "        element.appendChild(docLink);\n",
              "      }\n",
              "    </script>\n",
              "  </div>\n",
              "\n",
              "\n",
              "<div id=\"df-fa5f5e41-7b74-4666-b0e4-fe15ee7af4e6\">\n",
              "  <button class=\"colab-df-quickchart\" onclick=\"quickchart('df-fa5f5e41-7b74-4666-b0e4-fe15ee7af4e6')\"\n",
              "            title=\"Suggest charts\"\n",
              "            style=\"display:none;\">\n",
              "\n",
              "<svg xmlns=\"http://www.w3.org/2000/svg\" height=\"24px\"viewBox=\"0 0 24 24\"\n",
              "     width=\"24px\">\n",
              "    <g>\n",
              "        <path d=\"M19 3H5c-1.1 0-2 .9-2 2v14c0 1.1.9 2 2 2h14c1.1 0 2-.9 2-2V5c0-1.1-.9-2-2-2zM9 17H7v-7h2v7zm4 0h-2V7h2v10zm4 0h-2v-4h2v4z\"/>\n",
              "    </g>\n",
              "</svg>\n",
              "  </button>\n",
              "\n",
              "<style>\n",
              "  .colab-df-quickchart {\n",
              "      --bg-color: #E8F0FE;\n",
              "      --fill-color: #1967D2;\n",
              "      --hover-bg-color: #E2EBFA;\n",
              "      --hover-fill-color: #174EA6;\n",
              "      --disabled-fill-color: #AAA;\n",
              "      --disabled-bg-color: #DDD;\n",
              "  }\n",
              "\n",
              "  [theme=dark] .colab-df-quickchart {\n",
              "      --bg-color: #3B4455;\n",
              "      --fill-color: #D2E3FC;\n",
              "      --hover-bg-color: #434B5C;\n",
              "      --hover-fill-color: #FFFFFF;\n",
              "      --disabled-bg-color: #3B4455;\n",
              "      --disabled-fill-color: #666;\n",
              "  }\n",
              "\n",
              "  .colab-df-quickchart {\n",
              "    background-color: var(--bg-color);\n",
              "    border: none;\n",
              "    border-radius: 50%;\n",
              "    cursor: pointer;\n",
              "    display: none;\n",
              "    fill: var(--fill-color);\n",
              "    height: 32px;\n",
              "    padding: 0;\n",
              "    width: 32px;\n",
              "  }\n",
              "\n",
              "  .colab-df-quickchart:hover {\n",
              "    background-color: var(--hover-bg-color);\n",
              "    box-shadow: 0 1px 2px rgba(60, 64, 67, 0.3), 0 1px 3px 1px rgba(60, 64, 67, 0.15);\n",
              "    fill: var(--button-hover-fill-color);\n",
              "  }\n",
              "\n",
              "  .colab-df-quickchart-complete:disabled,\n",
              "  .colab-df-quickchart-complete:disabled:hover {\n",
              "    background-color: var(--disabled-bg-color);\n",
              "    fill: var(--disabled-fill-color);\n",
              "    box-shadow: none;\n",
              "  }\n",
              "\n",
              "  .colab-df-spinner {\n",
              "    border: 2px solid var(--fill-color);\n",
              "    border-color: transparent;\n",
              "    border-bottom-color: var(--fill-color);\n",
              "    animation:\n",
              "      spin 1s steps(1) infinite;\n",
              "  }\n",
              "\n",
              "  @keyframes spin {\n",
              "    0% {\n",
              "      border-color: transparent;\n",
              "      border-bottom-color: var(--fill-color);\n",
              "      border-left-color: var(--fill-color);\n",
              "    }\n",
              "    20% {\n",
              "      border-color: transparent;\n",
              "      border-left-color: var(--fill-color);\n",
              "      border-top-color: var(--fill-color);\n",
              "    }\n",
              "    30% {\n",
              "      border-color: transparent;\n",
              "      border-left-color: var(--fill-color);\n",
              "      border-top-color: var(--fill-color);\n",
              "      border-right-color: var(--fill-color);\n",
              "    }\n",
              "    40% {\n",
              "      border-color: transparent;\n",
              "      border-right-color: var(--fill-color);\n",
              "      border-top-color: var(--fill-color);\n",
              "    }\n",
              "    60% {\n",
              "      border-color: transparent;\n",
              "      border-right-color: var(--fill-color);\n",
              "    }\n",
              "    80% {\n",
              "      border-color: transparent;\n",
              "      border-right-color: var(--fill-color);\n",
              "      border-bottom-color: var(--fill-color);\n",
              "    }\n",
              "    90% {\n",
              "      border-color: transparent;\n",
              "      border-bottom-color: var(--fill-color);\n",
              "    }\n",
              "  }\n",
              "</style>\n",
              "\n",
              "  <script>\n",
              "    async function quickchart(key) {\n",
              "      const quickchartButtonEl =\n",
              "        document.querySelector('#' + key + ' button');\n",
              "      quickchartButtonEl.disabled = true;  // To prevent multiple clicks.\n",
              "      quickchartButtonEl.classList.add('colab-df-spinner');\n",
              "      try {\n",
              "        const charts = await google.colab.kernel.invokeFunction(\n",
              "            'suggestCharts', [key], {});\n",
              "      } catch (error) {\n",
              "        console.error('Error during call to suggestCharts:', error);\n",
              "      }\n",
              "      quickchartButtonEl.classList.remove('colab-df-spinner');\n",
              "      quickchartButtonEl.classList.add('colab-df-quickchart-complete');\n",
              "    }\n",
              "    (() => {\n",
              "      let quickchartButtonEl =\n",
              "        document.querySelector('#df-fa5f5e41-7b74-4666-b0e4-fe15ee7af4e6 button');\n",
              "      quickchartButtonEl.style.display =\n",
              "        google.colab.kernel.accessAllowed ? 'block' : 'none';\n",
              "    })();\n",
              "  </script>\n",
              "</div>\n",
              "\n",
              "    </div>\n",
              "  </div>\n"
            ],
            "application/vnd.google.colaboratory.intrinsic+json": {
              "type": "dataframe",
              "summary": "{\n  \"name\": \"train_dataset\",\n  \"rows\": 6,\n  \"fields\": [\n    {\n      \"column\": \"count\",\n      \"properties\": {\n        \"dtype\": \"number\",\n        \"std\": 0.0,\n        \"min\": 692500.0,\n        \"max\": 692500.0,\n        \"num_unique_values\": 1,\n        \"samples\": [\n          692500.0\n        ],\n        \"semantic_type\": \"\",\n        \"description\": \"\"\n      }\n    },\n    {\n      \"column\": \"mean\",\n      \"properties\": {\n        \"dtype\": \"number\",\n        \"std\": 200435.7282950351,\n        \"min\": 0.25999581227436824,\n        \"max\": 494606.1305761733,\n        \"num_unique_values\": 6,\n        \"samples\": [\n          494606.1305761733\n        ],\n        \"semantic_type\": \"\",\n        \"description\": \"\"\n      }\n    },\n    {\n      \"column\": \"std\",\n      \"properties\": {\n        \"dtype\": \"number\",\n        \"std\": 116588.78547650912,\n        \"min\": 0.058862424457500034,\n        \"max\": 285585.2094553153,\n        \"num_unique_values\": 6,\n        \"samples\": [\n          285585.2094553153\n        ],\n        \"semantic_type\": \"\",\n        \"description\": \"\"\n      }\n    },\n    {\n      \"column\": \"min\",\n      \"properties\": {\n        \"dtype\": \"number\",\n        \"std\": 8239.593606483271,\n        \"min\": 0.0,\n        \"max\": 20183.0,\n        \"num_unique_values\": 3,\n        \"samples\": [\n          1.0\n        ],\n        \"semantic_type\": \"\",\n        \"description\": \"\"\n      }\n    },\n    {\n      \"column\": \"25%\",\n      \"properties\": {\n        \"dtype\": \"number\",\n        \"std\": 99648.86835103463,\n        \"min\": 0.203,\n        \"max\": 247324.75,\n        \"num_unique_values\": 6,\n        \"samples\": [\n          247324.75\n        ],\n        \"semantic_type\": \"\",\n        \"description\": \"\"\n      }\n    },\n    {\n      \"column\": \"50%\",\n      \"properties\": {\n        \"dtype\": \"number\",\n        \"std\": 200418.96530580329,\n        \"min\": 0.24,\n        \"max\": 494564.5,\n        \"num_unique_values\": 6,\n        \"samples\": [\n          494564.5\n        ],\n        \"semantic_type\": \"\",\n        \"description\": \"\"\n      }\n    },\n    {\n      \"column\": \"75%\",\n      \"properties\": {\n        \"dtype\": \"number\",\n        \"std\": 301290.16308542975,\n        \"min\": 0.293,\n        \"max\": 741782.5,\n        \"num_unique_values\": 6,\n        \"samples\": [\n          741782.5\n        ],\n        \"semantic_type\": \"\",\n        \"description\": \"\"\n      }\n    },\n    {\n      \"column\": \"max\",\n      \"properties\": {\n        \"dtype\": \"number\",\n        \"std\": 402305.03658586624,\n        \"min\": 0.32,\n        \"max\": 989286.0,\n        \"num_unique_values\": 6,\n        \"samples\": [\n          989286.0\n        ],\n        \"semantic_type\": \"\",\n        \"description\": \"\"\n      }\n    }\n  ]\n}"
            }
          },
          "metadata": {},
          "execution_count": 10
        }
      ]
    },
    {
      "cell_type": "code",
      "source": [
        "train_dataset.describe(include=[object,bool]).T"
      ],
      "metadata": {
        "colab": {
          "base_uri": "https://localhost:8080/",
          "height": 519
        },
        "id": "Xp29mjkDHF8a",
        "outputId": "814d75c7-3494-40c8-8f41-ff3b122ac015"
      },
      "execution_count": 11,
      "outputs": [
        {
          "output_type": "execute_result",
          "data": {
            "text/plain": [
              "                                 count unique  \\\n",
              "ESTU_PRGM_ACADEMICO             692500    948   \n",
              "ESTU_PRGM_DEPARTAMENTO          692500     31   \n",
              "ESTU_VALORMATRICULAUNIVERSIDAD  686213      8   \n",
              "ESTU_HORASSEMANATRABAJA         661643      5   \n",
              "FAMI_ESTRATOVIVIENDA            660363      7   \n",
              "FAMI_TIENEINTERNET              665871      2   \n",
              "FAMI_EDUCACIONPADRE             669322     12   \n",
              "FAMI_TIENELAVADORA              652727      2   \n",
              "FAMI_TIENEAUTOMOVIL             648877      2   \n",
              "ESTU_PRIVADO_LIBERTAD           692500      2   \n",
              "ESTU_PAGOMATRICULAPROPIO        686002      2   \n",
              "FAMI_TIENECOMPUTADOR            654397      2   \n",
              "FAMI_TIENEINTERNET.1            665871      2   \n",
              "FAMI_EDUCACIONMADRE             668836     12   \n",
              "RENDIMIENTO_GLOBAL              692500      4   \n",
              "\n",
              "                                                                   top    freq  \n",
              "ESTU_PRGM_ACADEMICO                                            DERECHO   53244  \n",
              "ESTU_PRGM_DEPARTAMENTO                                          BOGOTÁ  282159  \n",
              "ESTU_VALORMATRICULAUNIVERSIDAD  Entre 1 millón y menos de 2.5 millones  204048  \n",
              "ESTU_HORASSEMANATRABAJA                                Más de 30 horas  249352  \n",
              "FAMI_ESTRATOVIVIENDA                                         Estrato 2  232671  \n",
              "FAMI_TIENEINTERNET                                                  Si  592514  \n",
              "FAMI_EDUCACIONPADRE                 Secundaria (Bachillerato) completa  128289  \n",
              "FAMI_TIENELAVADORA                                                  Si  563390  \n",
              "FAMI_TIENEAUTOMOVIL                                                 No  412606  \n",
              "ESTU_PRIVADO_LIBERTAD                                                N  692466  \n",
              "ESTU_PAGOMATRICULAPROPIO                                            No  382201  \n",
              "FAMI_TIENECOMPUTADOR                                                Si  597670  \n",
              "FAMI_TIENEINTERNET.1                                                Si  592514  \n",
              "FAMI_EDUCACIONMADRE                 Secundaria (Bachillerato) completa  141744  \n",
              "RENDIMIENTO_GLOBAL                                                alto  175619  "
            ],
            "text/html": [
              "\n",
              "  <div id=\"df-7ad1f731-dc80-4357-97e3-2c32131aa2f4\" class=\"colab-df-container\">\n",
              "    <div>\n",
              "<style scoped>\n",
              "    .dataframe tbody tr th:only-of-type {\n",
              "        vertical-align: middle;\n",
              "    }\n",
              "\n",
              "    .dataframe tbody tr th {\n",
              "        vertical-align: top;\n",
              "    }\n",
              "\n",
              "    .dataframe thead th {\n",
              "        text-align: right;\n",
              "    }\n",
              "</style>\n",
              "<table border=\"1\" class=\"dataframe\">\n",
              "  <thead>\n",
              "    <tr style=\"text-align: right;\">\n",
              "      <th></th>\n",
              "      <th>count</th>\n",
              "      <th>unique</th>\n",
              "      <th>top</th>\n",
              "      <th>freq</th>\n",
              "    </tr>\n",
              "  </thead>\n",
              "  <tbody>\n",
              "    <tr>\n",
              "      <th>ESTU_PRGM_ACADEMICO</th>\n",
              "      <td>692500</td>\n",
              "      <td>948</td>\n",
              "      <td>DERECHO</td>\n",
              "      <td>53244</td>\n",
              "    </tr>\n",
              "    <tr>\n",
              "      <th>ESTU_PRGM_DEPARTAMENTO</th>\n",
              "      <td>692500</td>\n",
              "      <td>31</td>\n",
              "      <td>BOGOTÁ</td>\n",
              "      <td>282159</td>\n",
              "    </tr>\n",
              "    <tr>\n",
              "      <th>ESTU_VALORMATRICULAUNIVERSIDAD</th>\n",
              "      <td>686213</td>\n",
              "      <td>8</td>\n",
              "      <td>Entre 1 millón y menos de 2.5 millones</td>\n",
              "      <td>204048</td>\n",
              "    </tr>\n",
              "    <tr>\n",
              "      <th>ESTU_HORASSEMANATRABAJA</th>\n",
              "      <td>661643</td>\n",
              "      <td>5</td>\n",
              "      <td>Más de 30 horas</td>\n",
              "      <td>249352</td>\n",
              "    </tr>\n",
              "    <tr>\n",
              "      <th>FAMI_ESTRATOVIVIENDA</th>\n",
              "      <td>660363</td>\n",
              "      <td>7</td>\n",
              "      <td>Estrato 2</td>\n",
              "      <td>232671</td>\n",
              "    </tr>\n",
              "    <tr>\n",
              "      <th>FAMI_TIENEINTERNET</th>\n",
              "      <td>665871</td>\n",
              "      <td>2</td>\n",
              "      <td>Si</td>\n",
              "      <td>592514</td>\n",
              "    </tr>\n",
              "    <tr>\n",
              "      <th>FAMI_EDUCACIONPADRE</th>\n",
              "      <td>669322</td>\n",
              "      <td>12</td>\n",
              "      <td>Secundaria (Bachillerato) completa</td>\n",
              "      <td>128289</td>\n",
              "    </tr>\n",
              "    <tr>\n",
              "      <th>FAMI_TIENELAVADORA</th>\n",
              "      <td>652727</td>\n",
              "      <td>2</td>\n",
              "      <td>Si</td>\n",
              "      <td>563390</td>\n",
              "    </tr>\n",
              "    <tr>\n",
              "      <th>FAMI_TIENEAUTOMOVIL</th>\n",
              "      <td>648877</td>\n",
              "      <td>2</td>\n",
              "      <td>No</td>\n",
              "      <td>412606</td>\n",
              "    </tr>\n",
              "    <tr>\n",
              "      <th>ESTU_PRIVADO_LIBERTAD</th>\n",
              "      <td>692500</td>\n",
              "      <td>2</td>\n",
              "      <td>N</td>\n",
              "      <td>692466</td>\n",
              "    </tr>\n",
              "    <tr>\n",
              "      <th>ESTU_PAGOMATRICULAPROPIO</th>\n",
              "      <td>686002</td>\n",
              "      <td>2</td>\n",
              "      <td>No</td>\n",
              "      <td>382201</td>\n",
              "    </tr>\n",
              "    <tr>\n",
              "      <th>FAMI_TIENECOMPUTADOR</th>\n",
              "      <td>654397</td>\n",
              "      <td>2</td>\n",
              "      <td>Si</td>\n",
              "      <td>597670</td>\n",
              "    </tr>\n",
              "    <tr>\n",
              "      <th>FAMI_TIENEINTERNET.1</th>\n",
              "      <td>665871</td>\n",
              "      <td>2</td>\n",
              "      <td>Si</td>\n",
              "      <td>592514</td>\n",
              "    </tr>\n",
              "    <tr>\n",
              "      <th>FAMI_EDUCACIONMADRE</th>\n",
              "      <td>668836</td>\n",
              "      <td>12</td>\n",
              "      <td>Secundaria (Bachillerato) completa</td>\n",
              "      <td>141744</td>\n",
              "    </tr>\n",
              "    <tr>\n",
              "      <th>RENDIMIENTO_GLOBAL</th>\n",
              "      <td>692500</td>\n",
              "      <td>4</td>\n",
              "      <td>alto</td>\n",
              "      <td>175619</td>\n",
              "    </tr>\n",
              "  </tbody>\n",
              "</table>\n",
              "</div>\n",
              "    <div class=\"colab-df-buttons\">\n",
              "\n",
              "  <div class=\"colab-df-container\">\n",
              "    <button class=\"colab-df-convert\" onclick=\"convertToInteractive('df-7ad1f731-dc80-4357-97e3-2c32131aa2f4')\"\n",
              "            title=\"Convert this dataframe to an interactive table.\"\n",
              "            style=\"display:none;\">\n",
              "\n",
              "  <svg xmlns=\"http://www.w3.org/2000/svg\" height=\"24px\" viewBox=\"0 -960 960 960\">\n",
              "    <path d=\"M120-120v-720h720v720H120Zm60-500h600v-160H180v160Zm220 220h160v-160H400v160Zm0 220h160v-160H400v160ZM180-400h160v-160H180v160Zm440 0h160v-160H620v160ZM180-180h160v-160H180v160Zm440 0h160v-160H620v160Z\"/>\n",
              "  </svg>\n",
              "    </button>\n",
              "\n",
              "  <style>\n",
              "    .colab-df-container {\n",
              "      display:flex;\n",
              "      gap: 12px;\n",
              "    }\n",
              "\n",
              "    .colab-df-convert {\n",
              "      background-color: #E8F0FE;\n",
              "      border: none;\n",
              "      border-radius: 50%;\n",
              "      cursor: pointer;\n",
              "      display: none;\n",
              "      fill: #1967D2;\n",
              "      height: 32px;\n",
              "      padding: 0 0 0 0;\n",
              "      width: 32px;\n",
              "    }\n",
              "\n",
              "    .colab-df-convert:hover {\n",
              "      background-color: #E2EBFA;\n",
              "      box-shadow: 0px 1px 2px rgba(60, 64, 67, 0.3), 0px 1px 3px 1px rgba(60, 64, 67, 0.15);\n",
              "      fill: #174EA6;\n",
              "    }\n",
              "\n",
              "    .colab-df-buttons div {\n",
              "      margin-bottom: 4px;\n",
              "    }\n",
              "\n",
              "    [theme=dark] .colab-df-convert {\n",
              "      background-color: #3B4455;\n",
              "      fill: #D2E3FC;\n",
              "    }\n",
              "\n",
              "    [theme=dark] .colab-df-convert:hover {\n",
              "      background-color: #434B5C;\n",
              "      box-shadow: 0px 1px 3px 1px rgba(0, 0, 0, 0.15);\n",
              "      filter: drop-shadow(0px 1px 2px rgba(0, 0, 0, 0.3));\n",
              "      fill: #FFFFFF;\n",
              "    }\n",
              "  </style>\n",
              "\n",
              "    <script>\n",
              "      const buttonEl =\n",
              "        document.querySelector('#df-7ad1f731-dc80-4357-97e3-2c32131aa2f4 button.colab-df-convert');\n",
              "      buttonEl.style.display =\n",
              "        google.colab.kernel.accessAllowed ? 'block' : 'none';\n",
              "\n",
              "      async function convertToInteractive(key) {\n",
              "        const element = document.querySelector('#df-7ad1f731-dc80-4357-97e3-2c32131aa2f4');\n",
              "        const dataTable =\n",
              "          await google.colab.kernel.invokeFunction('convertToInteractive',\n",
              "                                                    [key], {});\n",
              "        if (!dataTable) return;\n",
              "\n",
              "        const docLinkHtml = 'Like what you see? Visit the ' +\n",
              "          '<a target=\"_blank\" href=https://colab.research.google.com/notebooks/data_table.ipynb>data table notebook</a>'\n",
              "          + ' to learn more about interactive tables.';\n",
              "        element.innerHTML = '';\n",
              "        dataTable['output_type'] = 'display_data';\n",
              "        await google.colab.output.renderOutput(dataTable, element);\n",
              "        const docLink = document.createElement('div');\n",
              "        docLink.innerHTML = docLinkHtml;\n",
              "        element.appendChild(docLink);\n",
              "      }\n",
              "    </script>\n",
              "  </div>\n",
              "\n",
              "\n",
              "<div id=\"df-7f8a6691-6a1a-4ae0-83dd-baef4cbfbf7f\">\n",
              "  <button class=\"colab-df-quickchart\" onclick=\"quickchart('df-7f8a6691-6a1a-4ae0-83dd-baef4cbfbf7f')\"\n",
              "            title=\"Suggest charts\"\n",
              "            style=\"display:none;\">\n",
              "\n",
              "<svg xmlns=\"http://www.w3.org/2000/svg\" height=\"24px\"viewBox=\"0 0 24 24\"\n",
              "     width=\"24px\">\n",
              "    <g>\n",
              "        <path d=\"M19 3H5c-1.1 0-2 .9-2 2v14c0 1.1.9 2 2 2h14c1.1 0 2-.9 2-2V5c0-1.1-.9-2-2-2zM9 17H7v-7h2v7zm4 0h-2V7h2v10zm4 0h-2v-4h2v4z\"/>\n",
              "    </g>\n",
              "</svg>\n",
              "  </button>\n",
              "\n",
              "<style>\n",
              "  .colab-df-quickchart {\n",
              "      --bg-color: #E8F0FE;\n",
              "      --fill-color: #1967D2;\n",
              "      --hover-bg-color: #E2EBFA;\n",
              "      --hover-fill-color: #174EA6;\n",
              "      --disabled-fill-color: #AAA;\n",
              "      --disabled-bg-color: #DDD;\n",
              "  }\n",
              "\n",
              "  [theme=dark] .colab-df-quickchart {\n",
              "      --bg-color: #3B4455;\n",
              "      --fill-color: #D2E3FC;\n",
              "      --hover-bg-color: #434B5C;\n",
              "      --hover-fill-color: #FFFFFF;\n",
              "      --disabled-bg-color: #3B4455;\n",
              "      --disabled-fill-color: #666;\n",
              "  }\n",
              "\n",
              "  .colab-df-quickchart {\n",
              "    background-color: var(--bg-color);\n",
              "    border: none;\n",
              "    border-radius: 50%;\n",
              "    cursor: pointer;\n",
              "    display: none;\n",
              "    fill: var(--fill-color);\n",
              "    height: 32px;\n",
              "    padding: 0;\n",
              "    width: 32px;\n",
              "  }\n",
              "\n",
              "  .colab-df-quickchart:hover {\n",
              "    background-color: var(--hover-bg-color);\n",
              "    box-shadow: 0 1px 2px rgba(60, 64, 67, 0.3), 0 1px 3px 1px rgba(60, 64, 67, 0.15);\n",
              "    fill: var(--button-hover-fill-color);\n",
              "  }\n",
              "\n",
              "  .colab-df-quickchart-complete:disabled,\n",
              "  .colab-df-quickchart-complete:disabled:hover {\n",
              "    background-color: var(--disabled-bg-color);\n",
              "    fill: var(--disabled-fill-color);\n",
              "    box-shadow: none;\n",
              "  }\n",
              "\n",
              "  .colab-df-spinner {\n",
              "    border: 2px solid var(--fill-color);\n",
              "    border-color: transparent;\n",
              "    border-bottom-color: var(--fill-color);\n",
              "    animation:\n",
              "      spin 1s steps(1) infinite;\n",
              "  }\n",
              "\n",
              "  @keyframes spin {\n",
              "    0% {\n",
              "      border-color: transparent;\n",
              "      border-bottom-color: var(--fill-color);\n",
              "      border-left-color: var(--fill-color);\n",
              "    }\n",
              "    20% {\n",
              "      border-color: transparent;\n",
              "      border-left-color: var(--fill-color);\n",
              "      border-top-color: var(--fill-color);\n",
              "    }\n",
              "    30% {\n",
              "      border-color: transparent;\n",
              "      border-left-color: var(--fill-color);\n",
              "      border-top-color: var(--fill-color);\n",
              "      border-right-color: var(--fill-color);\n",
              "    }\n",
              "    40% {\n",
              "      border-color: transparent;\n",
              "      border-right-color: var(--fill-color);\n",
              "      border-top-color: var(--fill-color);\n",
              "    }\n",
              "    60% {\n",
              "      border-color: transparent;\n",
              "      border-right-color: var(--fill-color);\n",
              "    }\n",
              "    80% {\n",
              "      border-color: transparent;\n",
              "      border-right-color: var(--fill-color);\n",
              "      border-bottom-color: var(--fill-color);\n",
              "    }\n",
              "    90% {\n",
              "      border-color: transparent;\n",
              "      border-bottom-color: var(--fill-color);\n",
              "    }\n",
              "  }\n",
              "</style>\n",
              "\n",
              "  <script>\n",
              "    async function quickchart(key) {\n",
              "      const quickchartButtonEl =\n",
              "        document.querySelector('#' + key + ' button');\n",
              "      quickchartButtonEl.disabled = true;  // To prevent multiple clicks.\n",
              "      quickchartButtonEl.classList.add('colab-df-spinner');\n",
              "      try {\n",
              "        const charts = await google.colab.kernel.invokeFunction(\n",
              "            'suggestCharts', [key], {});\n",
              "      } catch (error) {\n",
              "        console.error('Error during call to suggestCharts:', error);\n",
              "      }\n",
              "      quickchartButtonEl.classList.remove('colab-df-spinner');\n",
              "      quickchartButtonEl.classList.add('colab-df-quickchart-complete');\n",
              "    }\n",
              "    (() => {\n",
              "      let quickchartButtonEl =\n",
              "        document.querySelector('#df-7f8a6691-6a1a-4ae0-83dd-baef4cbfbf7f button');\n",
              "      quickchartButtonEl.style.display =\n",
              "        google.colab.kernel.accessAllowed ? 'block' : 'none';\n",
              "    })();\n",
              "  </script>\n",
              "</div>\n",
              "\n",
              "    </div>\n",
              "  </div>\n"
            ],
            "application/vnd.google.colaboratory.intrinsic+json": {
              "type": "dataframe",
              "summary": "{\n  \"name\": \"train_dataset\",\n  \"rows\": 15,\n  \"fields\": [\n    {\n      \"column\": \"count\",\n      \"properties\": {\n        \"dtype\": \"date\",\n        \"min\": \"648877\",\n        \"max\": \"692500\",\n        \"num_unique_values\": 11,\n        \"samples\": [\n          \"669322\",\n          \"692500\",\n          \"654397\"\n        ],\n        \"semantic_type\": \"\",\n        \"description\": \"\"\n      }\n    },\n    {\n      \"column\": \"unique\",\n      \"properties\": {\n        \"dtype\": \"date\",\n        \"min\": 2,\n        \"max\": 948,\n        \"num_unique_values\": 8,\n        \"samples\": [\n          31,\n          2,\n          948\n        ],\n        \"semantic_type\": \"\",\n        \"description\": \"\"\n      }\n    },\n    {\n      \"column\": \"top\",\n      \"properties\": {\n        \"dtype\": \"string\",\n        \"num_unique_values\": 10,\n        \"samples\": [\n          \"N\",\n          \"BOGOT\\u00c1\",\n          \"Si\"\n        ],\n        \"semantic_type\": \"\",\n        \"description\": \"\"\n      }\n    },\n    {\n      \"column\": \"freq\",\n      \"properties\": {\n        \"dtype\": \"date\",\n        \"min\": \"53244\",\n        \"max\": \"692466\",\n        \"num_unique_values\": 14,\n        \"samples\": [\n          \"692466\",\n          \"597670\",\n          \"53244\"\n        ],\n        \"semantic_type\": \"\",\n        \"description\": \"\"\n      }\n    }\n  ]\n}"
            }
          },
          "metadata": {},
          "execution_count": 11
        }
      ]
    },
    {
      "cell_type": "markdown",
      "source": [
        "Debido a que en este caso nuestro target es el **rendimiento global** realizamos un resumen de cuantas muestras pertenecen a cada una de las categorías. En este caso, será una clasificación multiclase con clases balanceadas."
      ],
      "metadata": {
        "id": "pIhfy-ZsX29T"
      }
    },
    {
      "cell_type": "code",
      "source": [
        "train_dataset['RENDIMIENTO_GLOBAL'].value_counts()"
      ],
      "metadata": {
        "colab": {
          "base_uri": "https://localhost:8080/",
          "height": 241
        },
        "id": "Ykt0WWVEHuJU",
        "outputId": "b9b69929-87d8-4e84-adca-f834915605c4"
      },
      "execution_count": null,
      "outputs": [
        {
          "output_type": "execute_result",
          "data": {
            "text/plain": [
              "RENDIMIENTO_GLOBAL\n",
              "alto          175619\n",
              "bajo          172987\n",
              "medio-bajo    172275\n",
              "medio-alto    171619\n",
              "Name: count, dtype: int64"
            ],
            "text/html": [
              "<div>\n",
              "<style scoped>\n",
              "    .dataframe tbody tr th:only-of-type {\n",
              "        vertical-align: middle;\n",
              "    }\n",
              "\n",
              "    .dataframe tbody tr th {\n",
              "        vertical-align: top;\n",
              "    }\n",
              "\n",
              "    .dataframe thead th {\n",
              "        text-align: right;\n",
              "    }\n",
              "</style>\n",
              "<table border=\"1\" class=\"dataframe\">\n",
              "  <thead>\n",
              "    <tr style=\"text-align: right;\">\n",
              "      <th></th>\n",
              "      <th>count</th>\n",
              "    </tr>\n",
              "    <tr>\n",
              "      <th>RENDIMIENTO_GLOBAL</th>\n",
              "      <th></th>\n",
              "    </tr>\n",
              "  </thead>\n",
              "  <tbody>\n",
              "    <tr>\n",
              "      <th>alto</th>\n",
              "      <td>175619</td>\n",
              "    </tr>\n",
              "    <tr>\n",
              "      <th>bajo</th>\n",
              "      <td>172987</td>\n",
              "    </tr>\n",
              "    <tr>\n",
              "      <th>medio-bajo</th>\n",
              "      <td>172275</td>\n",
              "    </tr>\n",
              "    <tr>\n",
              "      <th>medio-alto</th>\n",
              "      <td>171619</td>\n",
              "    </tr>\n",
              "  </tbody>\n",
              "</table>\n",
              "</div><br><label><b>dtype:</b> int64</label>"
            ]
          },
          "metadata": {},
          "execution_count": 20
        }
      ]
    },
    {
      "cell_type": "code",
      "source": [
        "count_df = train_dataset.groupby(['RENDIMIENTO_GLOBAL']).size().reset_index(name='count')\n",
        "\n",
        "plt.figure(figsize=(8, 5))\n",
        "sns.set_theme(style=\"whitegrid\")\n",
        "\n",
        "sns.barplot(data=count_df,\n",
        "            x='RENDIMIENTO_GLOBAL',\n",
        "            y='count',\n",
        "            palette='Blues_r'\n",
        "            )\n",
        "\n",
        "plt.xlabel('Rendimiento Global')\n",
        "plt.ylabel('No. Estudiantes')\n",
        "plt.title('Rendimiento de los estudiantes en las pruebas ICFES')\n",
        "plt.grid(linestyle='--', alpha=0.5, axis='y')\n",
        "\n",
        "# Mostrar el gráfico\n",
        "plt.show()"
      ],
      "metadata": {
        "colab": {
          "base_uri": "https://localhost:8080/",
          "height": 603
        },
        "id": "kYj_YiX2LJ7q",
        "outputId": "5a25e8f6-b01b-43c0-9424-41c8bbd3b391"
      },
      "execution_count": 15,
      "outputs": [
        {
          "output_type": "stream",
          "name": "stderr",
          "text": [
            "<ipython-input-15-eadd2e59896f>:6: FutureWarning: \n",
            "\n",
            "Passing `palette` without assigning `hue` is deprecated and will be removed in v0.14.0. Assign the `x` variable to `hue` and set `legend=False` for the same effect.\n",
            "\n",
            "  sns.barplot(data=count_df,\n"
          ]
        },
        {
          "output_type": "display_data",
          "data": {
            "text/plain": [
              "<Figure size 800x500 with 1 Axes>"
            ],
            "image/png": "[encoded data removed]"
          },
          "metadata": {}
        }
      ]
    },
    {
      "cell_type": "code",
      "source": [
        "grouped = train_dataset.groupby(['FAMI_ESTRATOVIVIENDA', 'RENDIMIENTO_GLOBAL']).size().reset_index(name='count')\n",
        "print(grouped)\n",
        "\n",
        "plt.figure(figsize=(12, 6))\n",
        "sns.set_theme(style=\"whitegrid\")\n",
        "\n",
        "sns.barplot(\n",
        "    data=grouped,\n",
        "    x='FAMI_ESTRATOVIVIENDA',\n",
        "    y='count',\n",
        "    hue='RENDIMIENTO_GLOBAL',\n",
        "    palette='Blues_r'\n",
        ")\n",
        "\n",
        "plt.title('Distribución de estratos por rendimiento')\n",
        "plt.xlabel('Estratos')\n",
        "plt.ylabel('Número de estudiantes')\n",
        "plt.xticks(rotation=45)\n",
        "plt.tight_layout()\n",
        "plt.grid(axis='y', linestyle='--', alpha=0.5)\n",
        "plt.legend(title='Rendimiento')\n",
        "plt.show()"
      ],
      "metadata": {
        "colab": {
          "base_uri": "https://localhost:8080/",
          "height": 1000
        },
        "id": "Vs2YWpaobbYD",
        "outputId": "8872e4d5-2c89-4db6-9ead-7f57ffc4dae0"
      },
      "execution_count": 19,
      "outputs": [
        {
          "output_type": "stream",
          "name": "stdout",
          "text": [
            "   FAMI_ESTRATOVIVIENDA RENDIMIENTO_GLOBAL  count\n",
            "0             Estrato 1               alto  14363\n",
            "1             Estrato 1               bajo  42388\n",
            "2             Estrato 1         medio-alto  23643\n",
            "3             Estrato 1         medio-bajo  31597\n",
            "4             Estrato 2               alto  45948\n",
            "5             Estrato 2               bajo  63068\n",
            "6             Estrato 2         medio-alto  59536\n",
            "7             Estrato 2         medio-bajo  64119\n",
            "8             Estrato 3               alto  59121\n",
            "9             Estrato 3               bajo  42756\n",
            "10            Estrato 3         medio-alto  56841\n",
            "11            Estrato 3         medio-bajo  51967\n",
            "12            Estrato 4               alto  28624\n",
            "13            Estrato 4               bajo   9064\n",
            "14            Estrato 4         medio-alto  16154\n",
            "15            Estrato 4         medio-bajo  11672\n",
            "16            Estrato 5               alto  12415\n",
            "17            Estrato 5               bajo   2731\n",
            "18            Estrato 5         medio-alto   5112\n",
            "19            Estrato 5         medio-bajo   3350\n",
            "20            Estrato 6               alto   7648\n",
            "21            Estrato 6               bajo   1287\n",
            "22            Estrato 6         medio-alto   2314\n",
            "23            Estrato 6         medio-bajo   1356\n",
            "24          Sin Estrato               alto    588\n",
            "25          Sin Estrato               bajo   1436\n",
            "26          Sin Estrato         medio-alto    579\n",
            "27          Sin Estrato         medio-bajo    686\n"
          ]
        },
        {
          "output_type": "display_data",
          "data": {
            "text/plain": [
              "<Figure size 1200x600 with 1 Axes>"
            ],
            "image/png": "[encoded data removed]"
          },
          "metadata": {}
        }
      ]
    }
  ]
}